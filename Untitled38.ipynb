{
 "cells": [
  {
   "cell_type": "code",
   "execution_count": 1,
   "id": "bd2a5a77",
   "metadata": {},
   "outputs": [],
   "source": [
    "class A:\n",
    "    def __init__(self):\n",
    "        print(\"Soy de clase A\")\n",
    "\n",
    "class B:\n",
    "    def __init__(self):\n",
    "        print(\"Soy de clase B\")\n",
    "        \n",
    "class C(A,B):\n",
    "    pass"
   ]
  },
  {
   "cell_type": "code",
   "execution_count": 2,
   "id": "0503ca57",
   "metadata": {},
   "outputs": [
    {
     "name": "stdout",
     "output_type": "stream",
     "text": [
      "Soy de clase A\n"
     ]
    }
   ],
   "source": [
    "c=C()"
   ]
  },
  {
   "cell_type": "code",
   "execution_count": 5,
   "id": "a603b846",
   "metadata": {},
   "outputs": [],
   "source": [
    "class C(B,A):\n",
    "    pass"
   ]
  },
  {
   "cell_type": "code",
   "execution_count": 6,
   "id": "4cc1f874",
   "metadata": {},
   "outputs": [
    {
     "name": "stdout",
     "output_type": "stream",
     "text": [
      "Soy de clase B\n"
     ]
    }
   ],
   "source": [
    "c=C()"
   ]
  },
  {
   "cell_type": "code",
   "execution_count": 7,
   "id": "1fd4da7c",
   "metadata": {},
   "outputs": [],
   "source": [
    "class A:\n",
    "    def __init__(self):\n",
    "        print(\"Soy de clase A\")\n",
    "    \n",
    "    def metodo_a(self):\n",
    "        print(\"Este metodo lo hereda de A\")\n",
    "\n",
    "class B:\n",
    "    def __init__(self):\n",
    "        print(\"Soy de clase B\")\n",
    "        \n",
    "    def metodo_b(self):\n",
    "        print(\"Este metodo lo hereda de B\")\n",
    "        \n",
    "        \n",
    "class C(B,A):\n",
    "    def metodo_c(self):\n",
    "        print(\"Este metodo es de C\")"
   ]
  },
  {
   "cell_type": "code",
   "execution_count": 8,
   "id": "0967d074",
   "metadata": {},
   "outputs": [
    {
     "name": "stdout",
     "output_type": "stream",
     "text": [
      "Soy de clase B\n"
     ]
    }
   ],
   "source": [
    "objeto_nuevo = C()"
   ]
  },
  {
   "cell_type": "code",
   "execution_count": 9,
   "id": "580914ed",
   "metadata": {},
   "outputs": [
    {
     "name": "stdout",
     "output_type": "stream",
     "text": [
      "Este metodo lo hereda de A\n"
     ]
    }
   ],
   "source": [
    "objeto_nuevo.metodo_a()"
   ]
  },
  {
   "cell_type": "code",
   "execution_count": 10,
   "id": "8970274a",
   "metadata": {},
   "outputs": [
    {
     "name": "stdout",
     "output_type": "stream",
     "text": [
      "Este metodo lo hereda de B\n"
     ]
    }
   ],
   "source": [
    "objeto_nuevo.metodo_b()"
   ]
  },
  {
   "cell_type": "code",
   "execution_count": 11,
   "id": "d9ba5ef1",
   "metadata": {},
   "outputs": [
    {
     "name": "stdout",
     "output_type": "stream",
     "text": [
      "Este metodo es de C\n"
     ]
    }
   ],
   "source": [
    "objeto_nuevo.metodo_c()"
   ]
  },
  {
   "cell_type": "code",
   "execution_count": null,
   "id": "66018627",
   "metadata": {},
   "outputs": [],
   "source": []
  }
 ],
 "metadata": {
  "kernelspec": {
   "display_name": "Python 3 (ipykernel)",
   "language": "python",
   "name": "python3"
  },
  "language_info": {
   "codemirror_mode": {
    "name": "ipython",
    "version": 3
   },
   "file_extension": ".py",
   "mimetype": "text/x-python",
   "name": "python",
   "nbconvert_exporter": "python",
   "pygments_lexer": "ipython3",
   "version": "3.9.12"
  }
 },
 "nbformat": 4,
 "nbformat_minor": 5
}
