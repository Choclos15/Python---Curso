{
 "cells": [
  {
   "cell_type": "code",
   "execution_count": 14,
   "id": "8a005f84",
   "metadata": {},
   "outputs": [],
   "source": [
    "productos = [\n",
    "    {'cod' : '10001', 'Nombre' : 'Jabon Hermony', 'Categoria' : 'Higiene Personal', 'pvp' : 0.9},\n",
    "    {'cod' : '10002', 'Nombre' : 'Cereal Nestle', 'Categoria' : 'Cereal', 'pvp' : 1.5},\n",
    "    {'cod' : '10003', 'Nombre' : 'Limones', 'Categoria' : 'Fruta', 'pvp' : .7}\n",
    "]"
   ]
  },
  {
   "cell_type": "code",
   "execution_count": 2,
   "id": "273cbb17",
   "metadata": {},
   "outputs": [
    {
     "data": {
      "text/plain": [
       "{'cod': '10001',\n",
       " 'Nombre': 'Jabon Hermony',\n",
       " 'Categoria': 'Higiene Personal',\n",
       " 'pvp': 0.9}"
      ]
     },
     "execution_count": 2,
     "metadata": {},
     "output_type": "execute_result"
    }
   ],
   "source": [
    "productos[0]"
   ]
  },
  {
   "cell_type": "code",
   "execution_count": 5,
   "id": "0adfea45",
   "metadata": {},
   "outputs": [],
   "source": [
    "def mostrar_producto(productos, cod):\n",
    "    for p in productos:\n",
    "        if cod == p['cod']:\n",
    "            return print('{} {}'.format(p['Nombre'],p['pvp']))\n",
    "    print('Producto no encontrado')"
   ]
  },
  {
   "cell_type": "code",
   "execution_count": 15,
   "id": "b7863159",
   "metadata": {},
   "outputs": [
    {
     "name": "stdout",
     "output_type": "stream",
     "text": [
      "Limones 0.7\n"
     ]
    }
   ],
   "source": [
    "mostrar_producto(productos,'10003')"
   ]
  },
  {
   "cell_type": "code",
   "execution_count": 7,
   "id": "438ce864",
   "metadata": {},
   "outputs": [
    {
     "name": "stdout",
     "output_type": "stream",
     "text": [
      "Producto no encontrado\n"
     ]
    }
   ],
   "source": [
    "mostrar_producto(productos,'111')"
   ]
  },
  {
   "cell_type": "code",
   "execution_count": 8,
   "id": "2f47985a",
   "metadata": {},
   "outputs": [],
   "source": [
    "def borrar_producto(productos, cod):\n",
    "    for i,p in enumerate(productos):\n",
    "        if cod == p['cod']:\n",
    "            del(productos[i])\n",
    "            return print(str(p),\">ELIMIADO\")\n",
    "    print('Producto no encontrado')"
   ]
  },
  {
   "cell_type": "code",
   "execution_count": 16,
   "id": "b1e8082e",
   "metadata": {},
   "outputs": [
    {
     "name": "stdout",
     "output_type": "stream",
     "text": [
      "{'cod': '10003', 'Nombre': 'Limones', 'Categoria': 'Fruta', 'pvp': 0.7} >ELIMIADO\n"
     ]
    }
   ],
   "source": [
    "borrar_producto(productos, '10003')"
   ]
  },
  {
   "cell_type": "code",
   "execution_count": 10,
   "id": "79bd49ae",
   "metadata": {},
   "outputs": [
    {
     "name": "stdout",
     "output_type": "stream",
     "text": [
      "Producto no encontrado\n"
     ]
    }
   ],
   "source": [
    "borrar_producto(productos, '10003')"
   ]
  },
  {
   "cell_type": "code",
   "execution_count": 11,
   "id": "f532f1a1",
   "metadata": {},
   "outputs": [
    {
     "name": "stdout",
     "output_type": "stream",
     "text": [
      "Producto no encontrado\n"
     ]
    }
   ],
   "source": [
    "mostrar_producto(productos, '10003')"
   ]
  },
  {
   "cell_type": "code",
   "execution_count": 17,
   "id": "31335830",
   "metadata": {},
   "outputs": [
    {
     "name": "stdout",
     "output_type": "stream",
     "text": [
      "==CATALOGO DE PRODUCTOS==\n",
      "[{'cod': '10001', 'Nombre': 'Jabon Hermony', 'Categoria': 'Higiene Personal', 'pvp': 0.9}, {'cod': '10002', 'Nombre': 'Cereal Nestle', 'Categoria': 'Cereal', 'pvp': 1.5}]\n",
      "\n",
      "MOSTRAR PRODUCTOS POR CODIGO\n",
      "Jabon Hermony 0.9\n",
      "Cereal Nestle 1.5\n",
      "\n",
      "BORRAR PRODUCTOS POR CODIGO\n",
      "{'cod': '10001', 'Nombre': 'Jabon Hermony', 'Categoria': 'Higiene Personal', 'pvp': 0.9} >ELIMIADO\n",
      "{'cod': '10002', 'Nombre': 'Cereal Nestle', 'Categoria': 'Cereal', 'pvp': 1.5} >ELIMIADO\n",
      "\n",
      "==CATALOGO DE PRODUCTOS==\n",
      "[]\n"
     ]
    }
   ],
   "source": [
    "print(\"==CATALOGO DE PRODUCTOS==\")\n",
    "print(productos)\n",
    "\n",
    "print(\"\\nMOSTRAR PRODUCTOS POR CODIGO\")\n",
    "mostrar_producto(productos,'10001')\n",
    "mostrar_producto(productos,'10002')\n",
    "\n",
    "print(\"\\nBORRAR PRODUCTOS POR CODIGO\")\n",
    "borrar_producto(productos,'10001')\n",
    "borrar_producto(productos,'10002')\n",
    "\n",
    "print(\"\\n==CATALOGO DE PRODUCTOS==\")\n",
    "print(productos)"
   ]
  },
  {
   "cell_type": "code",
   "execution_count": 20,
   "id": "7d3da0c2",
   "metadata": {},
   "outputs": [],
   "source": [
    "class Producto:\n",
    "    \n",
    "    def __init__(self, cod, nombre, categoria, pvp):\n",
    "        self.cod = cod\n",
    "        self.nombre = nombre\n",
    "        self.categoria = categoria\n",
    "        self.pvp = pvp\n",
    "        \n",
    "    def __str__(self):\n",
    "        return '{} {}'.format(self.nombre, self.pvp)\n",
    "    \n",
    "    \n",
    "    \n",
    "class Negocio:\n",
    "\n",
    "    def __init__(self, productos=[]):\n",
    "        self.productos = productos\n",
    "        \n",
    "    def mostrar_producto(self, cod=None):\n",
    "        for p in self.productos:\n",
    "            if p.cod == cod:\n",
    "                print(p)\n",
    "                return\n",
    "        print(\"Producto no encontrado\")\n",
    "        \n",
    "    def borrar_producto(self, cod=None):\n",
    "        for i,p in enumerate(self.productos):\n",
    "            if p.cod == cod:\n",
    "                del(self.productos[i])\n",
    "                return print(str(p),\">ELIMIADO\")\n",
    "        print('Producto no encontrado')"
   ]
  },
  {
   "cell_type": "code",
   "execution_count": 21,
   "id": "369b0373",
   "metadata": {},
   "outputs": [],
   "source": [
    "limones = Producto(nombre=\"Limones\", cod=\"10010\", categoria=\"Frutas\", pvp=0.8)\n",
    "platos = Producto(\"10020\", \"Platos Alpina\", \"Vajilla\", 2.4)"
   ]
  },
  {
   "cell_type": "code",
   "execution_count": 22,
   "id": "4619ce95",
   "metadata": {},
   "outputs": [
    {
     "data": {
      "text/plain": [
       "<__main__.Producto at 0x1ead0e5b8e0>"
      ]
     },
     "execution_count": 22,
     "metadata": {},
     "output_type": "execute_result"
    }
   ],
   "source": [
    "limones"
   ]
  },
  {
   "cell_type": "code",
   "execution_count": 23,
   "id": "d2bbd962",
   "metadata": {},
   "outputs": [
    {
     "data": {
      "text/plain": [
       "<__main__.Producto at 0x1ead0e31c40>"
      ]
     },
     "execution_count": 23,
     "metadata": {},
     "output_type": "execute_result"
    }
   ],
   "source": [
    "platos"
   ]
  },
  {
   "cell_type": "code",
   "execution_count": 24,
   "id": "c315a555",
   "metadata": {},
   "outputs": [
    {
     "data": {
      "text/plain": [
       "'Platos Alpina 2.4'"
      ]
     },
     "execution_count": 24,
     "metadata": {},
     "output_type": "execute_result"
    }
   ],
   "source": [
    "str(platos)"
   ]
  },
  {
   "cell_type": "code",
   "execution_count": 25,
   "id": "23bd0b86",
   "metadata": {},
   "outputs": [],
   "source": [
    "negocio = Negocio(productos=[limones,platos])"
   ]
  },
  {
   "cell_type": "code",
   "execution_count": 27,
   "id": "0f4e188c",
   "metadata": {},
   "outputs": [
    {
     "data": {
      "text/plain": [
       "[<__main__.Producto at 0x1ead0e5b8e0>, <__main__.Producto at 0x1ead0e31c40>]"
      ]
     },
     "execution_count": 27,
     "metadata": {},
     "output_type": "execute_result"
    }
   ],
   "source": [
    "negocio.productos"
   ]
  },
  {
   "cell_type": "code",
   "execution_count": 28,
   "id": "75f516f4",
   "metadata": {},
   "outputs": [
    {
     "name": "stdout",
     "output_type": "stream",
     "text": [
      "Limones 0.8\n"
     ]
    }
   ],
   "source": [
    "negocio.mostrar_producto('10010')"
   ]
  },
  {
   "cell_type": "code",
   "execution_count": 29,
   "id": "4ae5eea7",
   "metadata": {},
   "outputs": [
    {
     "name": "stdout",
     "output_type": "stream",
     "text": [
      "Limones 0.8 >ELIMIADO\n"
     ]
    }
   ],
   "source": [
    "negocio.borrar_producto('10010')"
   ]
  },
  {
   "cell_type": "code",
   "execution_count": 30,
   "id": "a3cc169b",
   "metadata": {},
   "outputs": [
    {
     "name": "stdout",
     "output_type": "stream",
     "text": [
      "Producto no encontrado\n"
     ]
    }
   ],
   "source": [
    "negocio.mostrar_producto('10010')"
   ]
  },
  {
   "cell_type": "code",
   "execution_count": null,
   "id": "5390aab4",
   "metadata": {},
   "outputs": [],
   "source": []
  }
 ],
 "metadata": {
  "kernelspec": {
   "display_name": "Python 3 (ipykernel)",
   "language": "python",
   "name": "python3"
  },
  "language_info": {
   "codemirror_mode": {
    "name": "ipython",
    "version": 3
   },
   "file_extension": ".py",
   "mimetype": "text/x-python",
   "name": "python",
   "nbconvert_exporter": "python",
   "pygments_lexer": "ipython3",
   "version": "3.9.12"
  }
 },
 "nbformat": 4,
 "nbformat_minor": 5
}
