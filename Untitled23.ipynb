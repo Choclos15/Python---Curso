{
 "cells": [
  {
   "cell_type": "code",
   "execution_count": 1,
   "id": "f5c1aa8c",
   "metadata": {},
   "outputs": [
    {
     "name": "stdout",
     "output_type": "stream",
     "text": [
      "1\n",
      "2\n",
      "3\n",
      "4\n",
      "5\n",
      "6\n",
      "7\n",
      "8\n",
      "9\n",
      "10\n"
     ]
    }
   ],
   "source": [
    "numeros = [1,2,3,4,5,6,7,8,9,10]\n",
    "indice = 0\n",
    "\n",
    "while (indice < len(numeros)):\n",
    "    print(numeros[indice])\n",
    "    indice+=1;"
   ]
  },
  {
   "cell_type": "code",
   "execution_count": 2,
   "id": "7973b938",
   "metadata": {},
   "outputs": [
    {
     "name": "stdout",
     "output_type": "stream",
     "text": [
      "1\n",
      "2\n",
      "3\n",
      "4\n",
      "5\n",
      "6\n",
      "7\n",
      "8\n",
      "9\n",
      "10\n"
     ]
    }
   ],
   "source": [
    "for i in numeros:\n",
    "    print(i)"
   ]
  },
  {
   "cell_type": "code",
   "execution_count": 4,
   "id": "df01977a",
   "metadata": {},
   "outputs": [
    {
     "data": {
      "text/plain": [
       "[0, 10, 20, 30, 40, 50, 60, 70, 80, 90, 100]"
      ]
     },
     "execution_count": 4,
     "metadata": {},
     "output_type": "execute_result"
    }
   ],
   "source": [
    "indice = 0\n",
    "numeros = [0,1,2,3,4,5,6,7,8,9,10]\n",
    "\n",
    "for numero in numeros:\n",
    "    numeros[indice] *= 10\n",
    "    indice+=1\n",
    "numeros"
   ]
  },
  {
   "cell_type": "code",
   "execution_count": 11,
   "id": "8ed1d62d",
   "metadata": {},
   "outputs": [
    {
     "name": "stdout",
     "output_type": "stream",
     "text": [
      "0 \t 0\n",
      "1 \t 10\n",
      "2 \t 20\n",
      "3 \t 30\n",
      "4 \t 40\n",
      "5 \t 50\n",
      "6 \t 60\n",
      "7 \t 70\n",
      "8 \t 80\n",
      "9 \t 90\n",
      "10 \t 100\n"
     ]
    },
    {
     "data": {
      "text/plain": [
       "[0, 10, 20, 30, 40, 50, 60, 70, 80, 90, 100]"
      ]
     },
     "execution_count": 11,
     "metadata": {},
     "output_type": "execute_result"
    }
   ],
   "source": [
    "numeros = [0,1,2,3,4,5,6,7,8,9,10]\n",
    "\n",
    "for indice, numero in enumerate(numeros):\n",
    "    numeros[indice]*=10\n",
    "    \n",
    "for indice, numero in enumerate(numeros):\n",
    "    print(indice,\"\\t\" ,numero)\n",
    "    \n",
    "numeros"
   ]
  },
  {
   "cell_type": "code",
   "execution_count": 12,
   "id": "8bcd3749",
   "metadata": {},
   "outputs": [
    {
     "name": "stdout",
     "output_type": "stream",
     "text": [
      "H\n",
      "O\n",
      "L\n",
      "A\n"
     ]
    }
   ],
   "source": [
    "cad = \"HOLA\"\n",
    "for caracter in cad:\n",
    "    print(caracter)"
   ]
  },
  {
   "cell_type": "code",
   "execution_count": 15,
   "id": "4f5abd6f",
   "metadata": {},
   "outputs": [
    {
     "name": "stdout",
     "output_type": "stream",
     "text": [
      " HOLA \n",
      " ****\n"
     ]
    }
   ],
   "source": [
    "cad_2 = \"\"\n",
    "\n",
    "for caracter in cad:\n",
    "    cad_2+=\"*\"\n",
    "\n",
    "print(,cad,\"\\n\",cad_2)"
   ]
  },
  {
   "cell_type": "code",
   "execution_count": 17,
   "id": "7a0f9c2e",
   "metadata": {},
   "outputs": [
    {
     "data": {
      "text/plain": [
       "'HHHOOOLLLAAA'"
      ]
     },
     "execution_count": 17,
     "metadata": {},
     "output_type": "execute_result"
    }
   ],
   "source": [
    "cad_3 = \"\"\n",
    "\n",
    "for caracter in cad:\n",
    "    cad_3 += caracter*3\n",
    "cad_3"
   ]
  },
  {
   "cell_type": "code",
   "execution_count": 18,
   "id": "f6bdc5ba",
   "metadata": {},
   "outputs": [
    {
     "data": {
      "text/plain": [
       "range(0, 10, 2)"
      ]
     },
     "execution_count": 18,
     "metadata": {},
     "output_type": "execute_result"
    }
   ],
   "source": [
    "range(0,10,2)"
   ]
  },
  {
   "cell_type": "code",
   "execution_count": 19,
   "id": "4a32ab01",
   "metadata": {},
   "outputs": [
    {
     "name": "stdout",
     "output_type": "stream",
     "text": [
      "range(0, 10) <class 'range'>\n"
     ]
    }
   ],
   "source": [
    "print(range(10),type(range(10)))"
   ]
  },
  {
   "cell_type": "code",
   "execution_count": 21,
   "id": "7870f0af",
   "metadata": {},
   "outputs": [
    {
     "name": "stdout",
     "output_type": "stream",
     "text": [
      "0\n",
      "1\n",
      "2\n",
      "3\n",
      "4\n",
      "5\n",
      "6\n",
      "7\n",
      "8\n",
      "9\n"
     ]
    }
   ],
   "source": [
    "for i in range(10):\n",
    "    print(i)"
   ]
  },
  {
   "cell_type": "code",
   "execution_count": 22,
   "id": "13f42a65",
   "metadata": {},
   "outputs": [
    {
     "name": "stdout",
     "output_type": "stream",
     "text": [
      "5\n",
      "8\n",
      "11\n",
      "14\n",
      "17\n",
      "20\n",
      "23\n",
      "26\n",
      "29\n"
     ]
    }
   ],
   "source": [
    "for i in range(5,30,3):\n",
    "    print(i)"
   ]
  },
  {
   "cell_type": "code",
   "execution_count": 25,
   "id": "afd9bd66",
   "metadata": {},
   "outputs": [
    {
     "name": "stdout",
     "output_type": "stream",
     "text": [
      "[0, 1, 2, 3, 4]\n",
      "0\n",
      "[0, 1, 2, 3, 4]\n",
      "1\n",
      "[0, 1, 2, 3, 4]\n",
      "2\n",
      "[0, 1, 2, 3, 4]\n",
      "3\n",
      "[0, 1, 2, 3, 4]\n",
      "4\n"
     ]
    }
   ],
   "source": [
    "lista = list(range(5))\n",
    "\n",
    "for i in lista:\n",
    "    print(lista)\n",
    "    print(i)"
   ]
  },
  {
   "cell_type": "code",
   "execution_count": 26,
   "id": "7d86c32a",
   "metadata": {},
   "outputs": [
    {
     "name": "stdout",
     "output_type": "stream",
     "text": [
      "range(0, 5)\n",
      "0\n",
      "range(0, 5)\n",
      "1\n",
      "range(0, 5)\n",
      "2\n",
      "range(0, 5)\n",
      "3\n",
      "range(0, 5)\n",
      "4\n"
     ]
    }
   ],
   "source": [
    "for i in range(5):\n",
    "    print(range(5))\n",
    "    print(i)"
   ]
  },
  {
   "cell_type": "code",
   "execution_count": null,
   "id": "d49b1b23",
   "metadata": {},
   "outputs": [],
   "source": []
  }
 ],
 "metadata": {
  "kernelspec": {
   "display_name": "Python 3 (ipykernel)",
   "language": "python",
   "name": "python3"
  },
  "language_info": {
   "codemirror_mode": {
    "name": "ipython",
    "version": 3
   },
   "file_extension": ".py",
   "mimetype": "text/x-python",
   "name": "python",
   "nbconvert_exporter": "python",
   "pygments_lexer": "ipython3",
   "version": "3.9.12"
  }
 },
 "nbformat": 4,
 "nbformat_minor": 5
}
