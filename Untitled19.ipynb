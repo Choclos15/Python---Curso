{
 "cells": [
  {
   "cell_type": "code",
   "execution_count": 1,
   "id": "9c94b9b9",
   "metadata": {},
   "outputs": [
    {
     "name": "stdout",
     "output_type": "stream",
     "text": [
      "El promedio es  3.3333333333333335\n"
     ]
    }
   ],
   "source": [
    "num_1 = 4\n",
    "num_2 = 3\n",
    "num_3 = 3\n",
    "\n",
    "media = (num_1 + num_2 + num_3) / 3\n",
    "\n",
    "print('El promedio es ', media)"
   ]
  },
  {
   "cell_type": "code",
   "execution_count": 2,
   "id": "8209bb2e",
   "metadata": {},
   "outputs": [],
   "source": [
    "matriz = [\n",
    "    [1,1,1,3],\n",
    "    [2,2,2,7],\n",
    "    [3,3,3,9],\n",
    "    [4,4,4,13]\n",
    "]\n",
    "matriz;"
   ]
  },
  {
   "cell_type": "code",
   "execution_count": 7,
   "id": "679c5366",
   "metadata": {},
   "outputs": [
    {
     "data": {
      "text/plain": [
       "[1, 1, 1, 3]"
      ]
     },
     "execution_count": 7,
     "metadata": {},
     "output_type": "execute_result"
    }
   ],
   "source": [
    "matriz[0][-1]= sum(matriz[0][:-1])\n",
    "matriz[0]"
   ]
  },
  {
   "cell_type": "code",
   "execution_count": 8,
   "id": "5d3e911f",
   "metadata": {},
   "outputs": [
    {
     "data": {
      "text/plain": [
       "[2, 2, 2, 6]"
      ]
     },
     "execution_count": 8,
     "metadata": {},
     "output_type": "execute_result"
    }
   ],
   "source": [
    "matriz[1][-1]= sum(matriz[1][:-1])\n",
    "matriz[1]"
   ]
  },
  {
   "cell_type": "code",
   "execution_count": 10,
   "id": "676fc9f0",
   "metadata": {},
   "outputs": [
    {
     "data": {
      "text/plain": [
       "[3, 3, 3, 9]"
      ]
     },
     "execution_count": 10,
     "metadata": {},
     "output_type": "execute_result"
    }
   ],
   "source": [
    "matriz[2][-1]= sum(matriz[2][:-1])\n",
    "matriz[2]"
   ]
  },
  {
   "cell_type": "code",
   "execution_count": 11,
   "id": "b489e967",
   "metadata": {},
   "outputs": [
    {
     "data": {
      "text/plain": [
       "[4, 4, 4, 12]"
      ]
     },
     "execution_count": 11,
     "metadata": {},
     "output_type": "execute_result"
    }
   ],
   "source": [
    "matriz[3][-1]= sum(matriz[3][:-1])\n",
    "matriz[3]"
   ]
  },
  {
   "cell_type": "code",
   "execution_count": 12,
   "id": "018b9ac7",
   "metadata": {},
   "outputs": [
    {
     "data": {
      "text/plain": [
       "[[1, 1, 1, 3], [2, 2, 2, 6], [3, 3, 3, 9], [4, 4, 4, 12]]"
      ]
     },
     "execution_count": 12,
     "metadata": {},
     "output_type": "execute_result"
    }
   ],
   "source": [
    "matriz"
   ]
  },
  {
   "cell_type": "code",
   "execution_count": 14,
   "id": "6f993b4a",
   "metadata": {},
   "outputs": [
    {
     "name": "stdout",
     "output_type": "stream",
     "text": [
      "[1, 1, 1, 3]\n",
      "[2, 2, 2, 6]\n",
      "[3, 3, 3, 9]\n",
      "[4, 4, 4, 12]\n"
     ]
    }
   ],
   "source": [
    "print(matriz[0])\n",
    "print(matriz[1])\n",
    "print(matriz[2])\n",
    "print(matriz[3])"
   ]
  },
  {
   "cell_type": "code",
   "execution_count": null,
   "id": "c8798ef8",
   "metadata": {},
   "outputs": [],
   "source": []
  }
 ],
 "metadata": {
  "kernelspec": {
   "display_name": "Python 3 (ipykernel)",
   "language": "python",
   "name": "python3"
  },
  "language_info": {
   "codemirror_mode": {
    "name": "ipython",
    "version": 3
   },
   "file_extension": ".py",
   "mimetype": "text/x-python",
   "name": "python",
   "nbconvert_exporter": "python",
   "pygments_lexer": "ipython3",
   "version": "3.9.12"
  }
 },
 "nbformat": 4,
 "nbformat_minor": 5
}
