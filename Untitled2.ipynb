{
 "cells": [
  {
   "cell_type": "code",
   "execution_count": 1,
   "id": "58ae27c7",
   "metadata": {},
   "outputs": [
    {
     "data": {
      "text/plain": [
       "'Esto es un texto o hilo'"
      ]
     },
     "execution_count": 1,
     "metadata": {},
     "output_type": "execute_result"
    }
   ],
   "source": [
    "\"Esto es un texto o hilo\""
   ]
  },
  {
   "cell_type": "code",
   "execution_count": 2,
   "id": "4288f484",
   "metadata": {},
   "outputs": [
    {
     "data": {
      "text/plain": [
       "'Este texto es uno distinto'"
      ]
     },
     "execution_count": 2,
     "metadata": {},
     "output_type": "execute_result"
    }
   ],
   "source": [
    "\"Este texto es uno distinto\""
   ]
  },
  {
   "cell_type": "code",
   "execution_count": 3,
   "id": "ae8e163c",
   "metadata": {},
   "outputs": [],
   "source": [
    "nombre = \"Giulia\"\n",
    "\n",
    "carrera= \"Magistrado tecnico superior en haberes PMC\""
   ]
  },
  {
   "cell_type": "code",
   "execution_count": 4,
   "id": "3b1f2aef",
   "metadata": {},
   "outputs": [
    {
     "data": {
      "text/plain": [
       "str"
      ]
     },
     "execution_count": 4,
     "metadata": {},
     "output_type": "execute_result"
    }
   ],
   "source": [
    "type(nombre)"
   ]
  },
  {
   "cell_type": "code",
   "execution_count": 5,
   "id": "167c86fd",
   "metadata": {},
   "outputs": [
    {
     "data": {
      "text/plain": [
       "'Magistrado tecnico superior en haberes PMC'"
      ]
     },
     "execution_count": 5,
     "metadata": {},
     "output_type": "execute_result"
    }
   ],
   "source": [
    "nombre\n",
    "carrera"
   ]
  },
  {
   "cell_type": "code",
   "execution_count": 6,
   "id": "5ec652eb",
   "metadata": {},
   "outputs": [
    {
     "name": "stdout",
     "output_type": "stream",
     "text": [
      "Giulia\n",
      "Magistrado tecnico superior en haberes PMC\n"
     ]
    }
   ],
   "source": [
    "print(nombre);\n",
    "print(carrera);"
   ]
  },
  {
   "cell_type": "code",
   "execution_count": 7,
   "id": "e7ed509c",
   "metadata": {},
   "outputs": [
    {
     "name": "stdout",
     "output_type": "stream",
     "text": [
      "Una cadena \tseparada por una tabulacion\n"
     ]
    }
   ],
   "source": [
    "print(\"Una cadena \\tseparada por una tabulacion\")"
   ]
  },
  {
   "cell_type": "code",
   "execution_count": 8,
   "id": "71b3beb3",
   "metadata": {},
   "outputs": [
    {
     "name": "stdout",
     "output_type": "stream",
     "text": [
      "Una cadena en una linea \n",
      " Una cadena en otra linea\n"
     ]
    }
   ],
   "source": [
    "print(\"Una cadena en una linea \\n Una cadena en otra linea\")"
   ]
  },
  {
   "cell_type": "code",
   "execution_count": 9,
   "id": "69e37e97",
   "metadata": {},
   "outputs": [
    {
     "name": "stdout",
     "output_type": "stream",
     "text": [
      "C:\n",
      "ombre\n",
      "ombre_2\n"
     ]
    }
   ],
   "source": [
    "print(\"C:\\nombre\\nombre_2\")"
   ]
  },
  {
   "cell_type": "code",
   "execution_count": 10,
   "id": "4a255947",
   "metadata": {},
   "outputs": [
    {
     "name": "stdout",
     "output_type": "stream",
     "text": [
      "C:\\nombre\\nombre_2\n"
     ]
    }
   ],
   "source": [
    "print(r\"C:\\nombre\\nombre_2\")"
   ]
  },
  {
   "cell_type": "code",
   "execution_count": 11,
   "id": "b44bd735",
   "metadata": {},
   "outputs": [
    {
     "name": "stdout",
     "output_type": "stream",
     "text": [
      "Linea 1 es esta\n",
      "y aqui tenemos la linea 2\n",
      "y esta es la 3\n",
      "y asi...\n",
      "asi...\n",
      "al infinito\n"
     ]
    }
   ],
   "source": [
    "print(\"\"\"Linea 1 es esta\n",
    "y aqui tenemos la linea 2\n",
    "y esta es la 3\n",
    "y asi...\n",
    "asi...\n",
    "al infinito\"\"\")"
   ]
  },
  {
   "cell_type": "code",
   "execution_count": null,
   "id": "411d47ae",
   "metadata": {},
   "outputs": [],
   "source": []
  }
 ],
 "metadata": {
  "kernelspec": {
   "display_name": "Python 3 (ipykernel)",
   "language": "python",
   "name": "python3"
  },
  "language_info": {
   "codemirror_mode": {
    "name": "ipython",
    "version": 3
   },
   "file_extension": ".py",
   "mimetype": "text/x-python",
   "name": "python",
   "nbconvert_exporter": "python",
   "pygments_lexer": "ipython3",
   "version": "3.9.12"
  }
 },
 "nbformat": 4,
 "nbformat_minor": 5
}
