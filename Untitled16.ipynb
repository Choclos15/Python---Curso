{
 "cells": [
  {
   "cell_type": "code",
   "execution_count": 1,
   "id": "5606c434",
   "metadata": {},
   "outputs": [],
   "source": [
    "tupla = ('Lunes', 'Martes', 'Miercoles')\n",
    "\n",
    "tupla_multi = ([1,2,3], 'a', 71.4, tupla)"
   ]
  },
  {
   "cell_type": "code",
   "execution_count": 2,
   "id": "6e97ae29",
   "metadata": {},
   "outputs": [
    {
     "data": {
      "text/plain": [
       "([1, 2, 3], 'a', 71.4, ('Lunes', 'Martes', 'Miercoles'))"
      ]
     },
     "execution_count": 2,
     "metadata": {},
     "output_type": "execute_result"
    }
   ],
   "source": [
    "tupla_multi"
   ]
  },
  {
   "cell_type": "code",
   "execution_count": 6,
   "id": "d17a03bb",
   "metadata": {},
   "outputs": [
    {
     "data": {
      "text/plain": [
       "('Lunes', 'Martes', 'Miercoles')"
      ]
     },
     "execution_count": 6,
     "metadata": {},
     "output_type": "execute_result"
    }
   ],
   "source": [
    "tupla_multi[-1]"
   ]
  },
  {
   "cell_type": "code",
   "execution_count": 5,
   "id": "60b6a4c5",
   "metadata": {},
   "outputs": [
    {
     "ename": "TypeError",
     "evalue": "'tuple' object does not support item assignment",
     "output_type": "error",
     "traceback": [
      "\u001b[1;31m---------------------------------------------------------------------------\u001b[0m",
      "\u001b[1;31mTypeError\u001b[0m                                 Traceback (most recent call last)",
      "Input \u001b[1;32mIn [5]\u001b[0m, in \u001b[0;36m<cell line: 1>\u001b[1;34m()\u001b[0m\n\u001b[1;32m----> 1\u001b[0m tupla_multi[\u001b[38;5;241m0\u001b[39m] \u001b[38;5;241m=\u001b[39m \u001b[38;5;241m4\u001b[39m\n",
      "\u001b[1;31mTypeError\u001b[0m: 'tuple' object does not support item assignment"
     ]
    }
   ],
   "source": [
    "tupla_multi[0] = 4"
   ]
  },
  {
   "cell_type": "code",
   "execution_count": 7,
   "id": "995a3fd7",
   "metadata": {},
   "outputs": [
    {
     "data": {
      "text/plain": [
       "['Lunes', 'Martes', 'Miercoles']"
      ]
     },
     "execution_count": 7,
     "metadata": {},
     "output_type": "execute_result"
    }
   ],
   "source": [
    "lista = list(tupla)\n",
    "lista"
   ]
  },
  {
   "cell_type": "code",
   "execution_count": 8,
   "id": "bd80c07e",
   "metadata": {},
   "outputs": [
    {
     "data": {
      "text/plain": [
       "['Domingo', 'Martes', 'Miercoles']"
      ]
     },
     "execution_count": 8,
     "metadata": {},
     "output_type": "execute_result"
    }
   ],
   "source": [
    "lista[0] = 'Domingo'\n",
    "lista"
   ]
  },
  {
   "cell_type": "code",
   "execution_count": 11,
   "id": "a677a656",
   "metadata": {},
   "outputs": [
    {
     "data": {
      "text/plain": [
       "1"
      ]
     },
     "execution_count": 11,
     "metadata": {},
     "output_type": "execute_result"
    }
   ],
   "source": [
    "tupla.index('Martes')"
   ]
  },
  {
   "cell_type": "code",
   "execution_count": 13,
   "id": "ebc8a3bb",
   "metadata": {},
   "outputs": [
    {
     "data": {
      "text/plain": [
       "1"
      ]
     },
     "execution_count": 13,
     "metadata": {},
     "output_type": "execute_result"
    }
   ],
   "source": [
    "tupla_multi.count(71.4)"
   ]
  },
  {
   "cell_type": "code",
   "execution_count": null,
   "id": "b231ff31",
   "metadata": {},
   "outputs": [],
   "source": []
  }
 ],
 "metadata": {
  "kernelspec": {
   "display_name": "Python 3 (ipykernel)",
   "language": "python",
   "name": "python3"
  },
  "language_info": {
   "codemirror_mode": {
    "name": "ipython",
    "version": 3
   },
   "file_extension": ".py",
   "mimetype": "text/x-python",
   "name": "python",
   "nbconvert_exporter": "python",
   "pygments_lexer": "ipython3",
   "version": "3.9.12"
  }
 },
 "nbformat": 4,
 "nbformat_minor": 5
}
