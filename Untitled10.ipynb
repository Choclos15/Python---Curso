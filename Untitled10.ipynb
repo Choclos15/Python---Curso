{
 "cells": [
  {
   "cell_type": "code",
   "execution_count": 1,
   "id": "8d8aa46f",
   "metadata": {},
   "outputs": [
    {
     "data": {
      "text/plain": [
       "'1 es el primer valor y 2 es el segundo'"
      ]
     },
     "execution_count": 1,
     "metadata": {},
     "output_type": "execute_result"
    }
   ],
   "source": [
    "'{} es el primer valor y {} es el segundo'.format(1,2)"
   ]
  },
  {
   "cell_type": "code",
   "execution_count": 2,
   "id": "77a885ae",
   "metadata": {},
   "outputs": [
    {
     "data": {
      "text/plain": [
       "'En estecaso alternamos el orden y el Dos aparece primero, luego Uno'"
      ]
     },
     "execution_count": 2,
     "metadata": {},
     "output_type": "execute_result"
    }
   ],
   "source": [
    "'En estecaso alternamos el orden y el {1} aparece primero, luego {0}'.format('Uno','Dos')"
   ]
  },
  {
   "cell_type": "code",
   "execution_count": 4,
   "id": "c4714f93",
   "metadata": {},
   "outputs": [
    {
     "name": "stdout",
     "output_type": "stream",
     "text": [
      "El valor de la cartuja de parma es 0.7\n"
     ]
    }
   ],
   "source": [
    "nombre = 'la cartuja de parma'\n",
    "\n",
    "x=.7\n",
    "\n",
    "print(f'El valor de {nombre} es', x)"
   ]
  },
  {
   "cell_type": "code",
   "execution_count": 5,
   "id": "5af1fb5e",
   "metadata": {},
   "outputs": [
    {
     "name": "stdout",
     "output_type": "stream",
     "text": [
      "El valor de La Cartuja De Parma\n",
      " 0.7  dolares pór papel\n"
     ]
    }
   ],
   "source": [
    "print(f'El valor de {nombre.title()}\\n',x,' dolares pór papel')"
   ]
  },
  {
   "cell_type": "code",
   "execution_count": 6,
   "id": "857abbe6",
   "metadata": {},
   "outputs": [
    {
     "name": "stdout",
     "output_type": "stream",
     "text": [
      "{'uno': 0.7, 'dos': 10.7}\n"
     ]
    }
   ],
   "source": [
    "diccionario = {'uno': x, 'dos': x.__add__(10)};\n",
    "\n",
    "print(diccionario);"
   ]
  },
  {
   "cell_type": "code",
   "execution_count": 8,
   "id": "46804b4c",
   "metadata": {},
   "outputs": [
    {
     "name": "stdout",
     "output_type": "stream",
     "text": [
      "La Cartuja De Parma cuesta 0.7 pesos\n",
      "y el otro libro 10.7 pesos.\n"
     ]
    }
   ],
   "source": [
    "print(f'{nombre.title()} cuesta {diccionario[\"uno\"]} pesos\\ny el otro libro {diccionario[\"dos\"]} pesos.')"
   ]
  },
  {
   "cell_type": "code",
   "execution_count": null,
   "id": "b1866f37",
   "metadata": {},
   "outputs": [],
   "source": []
  }
 ],
 "metadata": {
  "kernelspec": {
   "display_name": "Python 3 (ipykernel)",
   "language": "python",
   "name": "python3"
  },
  "language_info": {
   "codemirror_mode": {
    "name": "ipython",
    "version": 3
   },
   "file_extension": ".py",
   "mimetype": "text/x-python",
   "name": "python",
   "nbconvert_exporter": "python",
   "pygments_lexer": "ipython3",
   "version": "3.9.12"
  }
 },
 "nbformat": 4,
 "nbformat_minor": 5
}
