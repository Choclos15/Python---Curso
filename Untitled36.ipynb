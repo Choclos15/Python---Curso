{
 "cells": [
  {
   "cell_type": "code",
   "execution_count": 1,
   "id": "739e5717",
   "metadata": {},
   "outputs": [],
   "source": [
    "class VideoJuego:\n",
    "    \n",
    "    def __init__(self,titulo,genero,lanzamiento):\n",
    "        self.titulo=titulo\n",
    "        self.genero=genero,\n",
    "        self.lanzamiento=lanzamiento\n",
    "        print('Se creo un videojuego:',self.titulo)\n",
    "        \n",
    "    def __str__(self):\n",
    "        return '{} ({})'.format(self.titulo,self.lanzamiento)"
   ]
  },
  {
   "cell_type": "code",
   "execution_count": 2,
   "id": "c82ab936",
   "metadata": {},
   "outputs": [
    {
     "name": "stdout",
     "output_type": "stream",
     "text": [
      "Se creo un videojuego: The Last of Us\n"
     ]
    },
    {
     "data": {
      "text/plain": [
       "'The Last of Us (2013)'"
      ]
     },
     "execution_count": 2,
     "metadata": {},
     "output_type": "execute_result"
    }
   ],
   "source": [
    "vj = VideoJuego(\"The Last of Us\", \"Accion\", 2013)\n",
    "str(vj)"
   ]
  },
  {
   "cell_type": "code",
   "execution_count": 3,
   "id": "3eac87ef",
   "metadata": {},
   "outputs": [],
   "source": [
    "class Catalogo:\n",
    "    \n",
    "    vjuegos = []\n",
    "    \n",
    "    def __init__(self,vjuegos=[]):\n",
    "        self.vjuegos=vjuegos\n",
    "        \n",
    "    def agregar(self, v):\n",
    "        self.vjuegos.append(v)\n",
    "        \n",
    "    def mostrar(self):\n",
    "        for v in self.vjuegos:\n",
    "            print(v)"
   ]
  },
  {
   "cell_type": "code",
   "execution_count": 4,
   "id": "48a82d82",
   "metadata": {},
   "outputs": [
    {
     "name": "stdout",
     "output_type": "stream",
     "text": [
      "Se creo un videojuego: The Last of Us Part II\n"
     ]
    }
   ],
   "source": [
    "vi= VideoJuego(\"The Last of Us Part II\", \"Accion\", 2020)"
   ]
  },
  {
   "cell_type": "code",
   "execution_count": 6,
   "id": "76ba1c44",
   "metadata": {},
   "outputs": [],
   "source": [
    "c = Catalogo([vj,vi])"
   ]
  },
  {
   "cell_type": "code",
   "execution_count": 7,
   "id": "d9e9076d",
   "metadata": {},
   "outputs": [
    {
     "name": "stdout",
     "output_type": "stream",
     "text": [
      "The Last of Us (2013)\n",
      "The Last of Us Part II (2020)\n"
     ]
    }
   ],
   "source": [
    "c.mostrar()"
   ]
  },
  {
   "cell_type": "code",
   "execution_count": 8,
   "id": "9c16697e",
   "metadata": {},
   "outputs": [
    {
     "name": "stdout",
     "output_type": "stream",
     "text": [
      "Se creo un videojuego: Pokemon\n"
     ]
    }
   ],
   "source": [
    "c.agregar(VideoJuego(\"Pokemon\", \"RPG\", 1993))"
   ]
  },
  {
   "cell_type": "code",
   "execution_count": 9,
   "id": "89611e9b",
   "metadata": {},
   "outputs": [
    {
     "name": "stdout",
     "output_type": "stream",
     "text": [
      "The Last of Us (2013)\n",
      "The Last of Us Part II (2020)\n",
      "Pokemon (1993)\n"
     ]
    }
   ],
   "source": [
    "c.mostrar()"
   ]
  },
  {
   "cell_type": "code",
   "execution_count": null,
   "id": "e79de7bc",
   "metadata": {},
   "outputs": [],
   "source": []
  }
 ],
 "metadata": {
  "kernelspec": {
   "display_name": "Python 3 (ipykernel)",
   "language": "python",
   "name": "python3"
  },
  "language_info": {
   "codemirror_mode": {
    "name": "ipython",
    "version": 3
   },
   "file_extension": ".py",
   "mimetype": "text/x-python",
   "name": "python",
   "nbconvert_exporter": "python",
   "pygments_lexer": "ipython3",
   "version": "3.9.12"
  }
 },
 "nbformat": 4,
 "nbformat_minor": 5
}
