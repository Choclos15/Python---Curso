{
 "cells": [
  {
   "cell_type": "code",
   "execution_count": 1,
   "id": "ee4600f9",
   "metadata": {},
   "outputs": [],
   "source": [
    "conjunto_vacio = set()\n",
    "\n",
    "conjunto = {1, 2, 3}"
   ]
  },
  {
   "cell_type": "code",
   "execution_count": 2,
   "id": "39c0edd2",
   "metadata": {},
   "outputs": [
    {
     "name": "stdout",
     "output_type": "stream",
     "text": [
      "<class 'set'> {1, 2, 3}\n"
     ]
    }
   ],
   "source": [
    "print(type(conjunto_vacio), conjunto)"
   ]
  },
  {
   "cell_type": "code",
   "execution_count": 3,
   "id": "9d4d0fd1",
   "metadata": {},
   "outputs": [
    {
     "data": {
      "text/plain": [
       "{1, 2, 3, 4, 5, 'A', 'C', 'P'}"
      ]
     },
     "execution_count": 3,
     "metadata": {},
     "output_type": "execute_result"
    }
   ],
   "source": [
    "conjunto.add(4)\n",
    "conjunto.add(5)\n",
    "conjunto.add(\"C\")\n",
    "conjunto.add(\"A\")\n",
    "conjunto.add(\"P\")\n",
    "conjunto"
   ]
  },
  {
   "cell_type": "code",
   "execution_count": 4,
   "id": "7d6742c9",
   "metadata": {},
   "outputs": [
    {
     "name": "stdout",
     "output_type": "stream",
     "text": [
      "{'P', 1, 2, 3, 4, 5, 'A', 'C'}\n"
     ]
    }
   ],
   "source": [
    "conjunto.add(\"C\")\n",
    "print(conjunto)"
   ]
  },
  {
   "cell_type": "code",
   "execution_count": 5,
   "id": "c7ab6b87",
   "metadata": {},
   "outputs": [
    {
     "data": {
      "text/plain": [
       "False"
      ]
     },
     "execution_count": 5,
     "metadata": {},
     "output_type": "execute_result"
    }
   ],
   "source": [
    "grupo = {\"Luis\", \"Giulia\", \"Aaron\", \"Johel\"}\n",
    "\"Victor\" in grupo"
   ]
  },
  {
   "cell_type": "code",
   "execution_count": 6,
   "id": "575971b3",
   "metadata": {},
   "outputs": [
    {
     "data": {
      "text/plain": [
       "False"
      ]
     },
     "execution_count": 6,
     "metadata": {},
     "output_type": "execute_result"
    }
   ],
   "source": [
    "\"Johel\" not in grupo"
   ]
  },
  {
   "cell_type": "code",
   "execution_count": 7,
   "id": "9bde5652",
   "metadata": {},
   "outputs": [
    {
     "data": {
      "text/plain": [
       "True"
      ]
     },
     "execution_count": 7,
     "metadata": {},
     "output_type": "execute_result"
    }
   ],
   "source": [
    "4 not in grupo"
   ]
  },
  {
   "cell_type": "code",
   "execution_count": 8,
   "id": "e8022c63",
   "metadata": {},
   "outputs": [
    {
     "data": {
      "text/plain": [
       "False"
      ]
     },
     "execution_count": 8,
     "metadata": {},
     "output_type": "execute_result"
    }
   ],
   "source": [
    "10 in conjunto"
   ]
  },
  {
   "cell_type": "code",
   "execution_count": 9,
   "id": "c2d0bd2b",
   "metadata": {},
   "outputs": [
    {
     "data": {
      "text/plain": [
       "{'Ford', 'Toyota'}"
      ]
     },
     "execution_count": 9,
     "metadata": {},
     "output_type": "execute_result"
    }
   ],
   "source": [
    "grupo_carros = {\"Toyota\", \"Toyota\", \"Ford\"}\n",
    "grupo_carros"
   ]
  },
  {
   "cell_type": "code",
   "execution_count": 10,
   "id": "cb31597f",
   "metadata": {},
   "outputs": [
    {
     "name": "stdout",
     "output_type": "stream",
     "text": [
      "[1, 1, 2, 2, 3, 3, 4, 5, 5, 4, 5, 6]\n"
     ]
    }
   ],
   "source": [
    "extra = [1, 1, 2, 2, 3, 3, 4, 5, 5, 4, 5, 6]\n",
    "print(extra)"
   ]
  },
  {
   "cell_type": "code",
   "execution_count": 11,
   "id": "cf39be3b",
   "metadata": {},
   "outputs": [
    {
     "name": "stdout",
     "output_type": "stream",
     "text": [
      "{1, 2, 3, 4, 5, 6}\n"
     ]
    }
   ],
   "source": [
    "c = set(extra)\n",
    "print(c)"
   ]
  },
  {
   "cell_type": "code",
   "execution_count": 12,
   "id": "29b5095e",
   "metadata": {},
   "outputs": [
    {
     "name": "stdout",
     "output_type": "stream",
     "text": [
      "[1, 2, 3, 4, 5, 6]\n"
     ]
    }
   ],
   "source": [
    "sin_duplicados = list(c)\n",
    "print(sin_duplicados)"
   ]
  },
  {
   "cell_type": "code",
   "execution_count": 14,
   "id": "b08b1350",
   "metadata": {},
   "outputs": [
    {
     "name": "stdout",
     "output_type": "stream",
     "text": [
      "[1, 2, 3, 4, 5, 6]\n"
     ]
    }
   ],
   "source": [
    "no_dupli = list(set(extra));\n",
    "print(no_dupli)"
   ]
  },
  {
   "cell_type": "code",
   "execution_count": 15,
   "id": "157e179d",
   "metadata": {},
   "outputs": [
    {
     "data": {
      "text/plain": [
       "{' ',\n",
       " ',',\n",
       " '.',\n",
       " 'J',\n",
       " 'R',\n",
       " 'a',\n",
       " 'c',\n",
       " 'd',\n",
       " 'e',\n",
       " 'f',\n",
       " 'g',\n",
       " 'j',\n",
       " 'l',\n",
       " 'n',\n",
       " 'o',\n",
       " 'p',\n",
       " 'r',\n",
       " 't',\n",
       " 'ó'}"
      ]
     },
     "execution_count": 15,
     "metadata": {},
     "output_type": "execute_result"
    }
   ],
   "source": [
    "cadena = 'Jefe de jefe, patrón de patrón. Recógelo, recógelo'\n",
    "\n",
    "set(cadena)"
   ]
  },
  {
   "cell_type": "code",
   "execution_count": null,
   "id": "a411df53",
   "metadata": {},
   "outputs": [],
   "source": []
  }
 ],
 "metadata": {
  "kernelspec": {
   "display_name": "Python 3 (ipykernel)",
   "language": "python",
   "name": "python3"
  },
  "language_info": {
   "codemirror_mode": {
    "name": "ipython",
    "version": 3
   },
   "file_extension": ".py",
   "mimetype": "text/x-python",
   "name": "python",
   "nbconvert_exporter": "python",
   "pygments_lexer": "ipython3",
   "version": "3.9.12"
  }
 },
 "nbformat": 4,
 "nbformat_minor": 5
}
