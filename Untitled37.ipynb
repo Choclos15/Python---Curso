{
 "cells": [
  {
   "cell_type": "code",
   "execution_count": 1,
   "id": "be9512e5",
   "metadata": {},
   "outputs": [
    {
     "name": "stdout",
     "output_type": "stream",
     "text": [
      "<__main__.Producto object at 0x0000017360A7FCA0>\n",
      "Harina de maiz (1Kg), Carne de res (2Kg), Detertegnte para ropa (500g)\n"
     ]
    }
   ],
   "source": [
    "class Producto:\n",
    "    \n",
    "    def __init__ (self, ref, nombre, pvp, descripcion, marca=None, categoria=None, talla=None):\n",
    "        self.ref=ref\n",
    "        self.nombre = nombre\n",
    "        self.pvp = pvp,\n",
    "        self.descripcion=descripcion\n",
    "        self.marca = marca\n",
    "        self.categoria=categoria\n",
    "        self.talla=talla\n",
    "        \n",
    "combo_1=Producto('70010','Combo 1',150,'Harina de maiz (1Kg), Carne de res (2Kg), Detertegnte para ropa (500g)')\n",
    "print(combo_1)\n",
    "print(combo_1.descripcion)"
   ]
  },
  {
   "cell_type": "code",
   "execution_count": 6,
   "id": "58d3b031",
   "metadata": {},
   "outputs": [],
   "source": [
    "class Producto:\n",
    "    \n",
    "    def __init__ (self, ref, nombre, pvp, descripcion):\n",
    "        self.ref=ref\n",
    "        self.nombre = nombre\n",
    "        self.pvp = pvp,\n",
    "        self.descripcion=descripcion\n",
    "        \n",
    "    def __str__(self):\n",
    "        return f\"Referencia:\\t{self.ref}\\nNombre:\\t\\t{self.nombre}\\nPVP:\\t\\t{self.pvp}\\nDescripcion:\\t{self.descripcion}\\n\"        "
   ]
  },
  {
   "cell_type": "code",
   "execution_count": 8,
   "id": "ecaf563e",
   "metadata": {},
   "outputs": [],
   "source": [
    "class Combo(Producto):\n",
    "    pass"
   ]
  },
  {
   "cell_type": "code",
   "execution_count": 10,
   "id": "0fa396cf",
   "metadata": {},
   "outputs": [],
   "source": [
    "c_1=Combo('70010','Combo 1',150,'Harina de maiz (1Kg), Carne de res (2Kg), Detertegnte para ropa (500g)')"
   ]
  },
  {
   "cell_type": "code",
   "execution_count": 11,
   "id": "d27fbe5c",
   "metadata": {},
   "outputs": [
    {
     "name": "stdout",
     "output_type": "stream",
     "text": [
      "Referencia:\t70010\n",
      "Nombre:\t\tCombo 1\n",
      "PVP:\t\t(150,)\n",
      "Descripcion:\tHarina de maiz (1Kg), Carne de res (2Kg), Detertegnte para ropa (500g)\n",
      "\n"
     ]
    }
   ],
   "source": [
    "print(c_1)"
   ]
  },
  {
   "cell_type": "code",
   "execution_count": 19,
   "id": "fecab2e9",
   "metadata": {},
   "outputs": [],
   "source": [
    "class Alimento(Producto):\n",
    "    marca=\"\"\n",
    "    categoria=\"\"\n",
    "    \n",
    "    def __str__(self):\n",
    "        return f\"Referencia:\\t{self.ref}\\nNombre:\\t\\t{self.nombre}\\nPVP:\\t\\t{self.pvp}\\nDescripcion:\\t{self.descripcion}\\nMarca:\\t\\t{self.marca}\\nCategoria:\\t{self.categoria}\\n\"        "
   ]
  },
  {
   "cell_type": "code",
   "execution_count": 20,
   "id": "325989a1",
   "metadata": {},
   "outputs": [],
   "source": [
    "harina = Alimento(10001,\"Harina de maiz\",0.9,\"Harina precocida 1Kg\")"
   ]
  },
  {
   "cell_type": "code",
   "execution_count": 21,
   "id": "ccd0bfcc",
   "metadata": {},
   "outputs": [],
   "source": [
    "harina.marca=\"Nestle\"\n",
    "harina.categoria=\"Cereales\""
   ]
  },
  {
   "cell_type": "code",
   "execution_count": 22,
   "id": "ed2eeab9",
   "metadata": {},
   "outputs": [
    {
     "name": "stdout",
     "output_type": "stream",
     "text": [
      "Referencia:\t10001\n",
      "Nombre:\t\tHarina de maiz\n",
      "PVP:\t\t(0.9,)\n",
      "Descripcion:\tHarina precocida 1Kg\n",
      "Marca:\t\tNestle\n",
      "Categoria:\tCereales\n",
      "\n"
     ]
    }
   ],
   "source": [
    "print(harina)"
   ]
  },
  {
   "cell_type": "code",
   "execution_count": 26,
   "id": "62c7abe0",
   "metadata": {},
   "outputs": [],
   "source": [
    "class Ropa(Producto):\n",
    "    marca=\"\"\n",
    "    categoria=\"\"\n",
    "    talla=\"\"\n",
    "    \n",
    "    def __str__(self):\n",
    "        return f\"Referencia:\\t{self.ref}\\nNombre:\\t\\t{self.nombre}\\nPVP:\\t\\t{self.pvp}\\nDescripcion:\\t{self.descripcion}\\nMarca:\\t\\t{self.marca}\\nCategoria:\\t{self.categoria}\\nTalla:\\t\\t{self.talla}\"        "
   ]
  },
  {
   "cell_type": "code",
   "execution_count": 27,
   "id": "5bf23e93",
   "metadata": {},
   "outputs": [],
   "source": [
    "pantalon=Ropa(\"20001\",\"Pantalon\",4.7,\"Strech color rojo\")"
   ]
  },
  {
   "cell_type": "code",
   "execution_count": 28,
   "id": "471011d1",
   "metadata": {},
   "outputs": [
    {
     "name": "stdout",
     "output_type": "stream",
     "text": [
      "Referencia:\t20001\n",
      "Nombre:\t\tPantalon\n",
      "PVP:\t\t(4.7,)\n",
      "Descripcion:\tStrech color rojo\n",
      "Marca:\t\tLevis\n",
      "Categoria:\tDama\n",
      "Talla:\t\t30\n"
     ]
    }
   ],
   "source": [
    "pantalon.marca=\"Levis\"\n",
    "pantalon.categoria=\"Dama\"\n",
    "pantalon.talla=30\n",
    "print(pantalon)"
   ]
  },
  {
   "cell_type": "code",
   "execution_count": null,
   "id": "34870e9d",
   "metadata": {},
   "outputs": [],
   "source": []
  }
 ],
 "metadata": {
  "kernelspec": {
   "display_name": "Python 3 (ipykernel)",
   "language": "python",
   "name": "python3"
  },
  "language_info": {
   "codemirror_mode": {
    "name": "ipython",
    "version": 3
   },
   "file_extension": ".py",
   "mimetype": "text/x-python",
   "name": "python",
   "nbconvert_exporter": "python",
   "pygments_lexer": "ipython3",
   "version": "3.9.12"
  }
 },
 "nbformat": 4,
 "nbformat_minor": 5
}
