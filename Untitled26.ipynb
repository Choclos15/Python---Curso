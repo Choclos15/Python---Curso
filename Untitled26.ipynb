{
 "cells": [
  {
   "cell_type": "code",
   "execution_count": 1,
   "id": "4c8dd58d",
   "metadata": {},
   "outputs": [
    {
     "name": "stdout",
     "output_type": "stream",
     "text": [
      "(5, 'Johel Yun', [0, 1, 2, 3, 4])\n"
     ]
    }
   ],
   "source": [
    "def argumentar(*args):\n",
    "    print(args)\n",
    "    \n",
    "argumentar(5,\"Johel Yun\",[0,1,2,3,4])"
   ]
  },
  {
   "cell_type": "code",
   "execution_count": 2,
   "id": "a5266226",
   "metadata": {},
   "outputs": [
    {
     "name": "stdout",
     "output_type": "stream",
     "text": [
      "1\n",
      "Victor Liliput\n",
      "[0, 1, 2, 3, 4]\n"
     ]
    }
   ],
   "source": [
    "def argumentar(*args):\n",
    "    for elemento in args:\n",
    "        print(elemento)\n",
    "    \n",
    "    \n",
    "argumentar(1,\"Victor Liliput\", [0,1,2,3,4])"
   ]
  },
  {
   "cell_type": "code",
   "execution_count": 3,
   "id": "67c7bdb1",
   "metadata": {},
   "outputs": [
    {
     "name": "stdout",
     "output_type": "stream",
     "text": [
      "{'id': 5, 'nombre': 'Felix Feliciano', 'notas': [10, 10, 20, 3, 4]}\n"
     ]
    }
   ],
   "source": [
    "def nombrar(**kwargs):\n",
    "    print(kwargs)\n",
    "    \n",
    "nombrar(id=5,nombre=\"Felix Feliciano\",notas=[10,10,20,3,4])"
   ]
  },
  {
   "cell_type": "code",
   "execution_count": 4,
   "id": "b3a81a0e",
   "metadata": {},
   "outputs": [
    {
     "name": "stdout",
     "output_type": "stream",
     "text": [
      "id\n",
      "nombre\n",
      "notas\n"
     ]
    }
   ],
   "source": [
    "def nombrar(**kwargs):\n",
    "    for kwargs in kwargs:\n",
    "        print(kwargs)\n",
    "    \n",
    "nombrar(id=5,nombre=\"Felix Feliciano\",notas=[10,10,20,3,4])"
   ]
  },
  {
   "cell_type": "code",
   "execution_count": 5,
   "id": "002322b2",
   "metadata": {},
   "outputs": [
    {
     "name": "stdout",
     "output_type": "stream",
     "text": [
      "id   5\n",
      "nombre   Felix Feliciano\n",
      "notas   [10, 10, 20, 3, 4]\n"
     ]
    }
   ],
   "source": [
    "def nombrar(**kwargs):\n",
    "    for clave in kwargs:\n",
    "        print(clave, \" \", kwargs[clave])\n",
    "    \n",
    "nombrar(id=5,nombre=\"Felix Feliciano\",notas=[10,10,20,3,4])"
   ]
  },
  {
   "cell_type": "code",
   "execution_count": 7,
   "id": "4537c8e8",
   "metadata": {},
   "outputs": [
    {
     "name": "stdout",
     "output_type": "stream",
     "text": [
      "El promedio indeterminado es 9.4\n",
      "id \t 5\n",
      "nombre \t Victor Liliput\n",
      "edad \t 27\n",
      "notas \t [10, 10, 20, 3, 4]\n"
     ]
    }
   ],
   "source": [
    "def super_nominacion(*args, **kwargs):\n",
    "    suma = 0\n",
    "    for e in args:\n",
    "        suma += e\n",
    "    print(\"El promedio indeterminado es {}\".format(suma/len(args)))\n",
    "    for clave in kwargs:\n",
    "        print(clave,\"\\t\",kwargs[clave])\n",
    "        \n",
    "super_nominacion(10,10,20,3,4, id=5,nombre = \"Victor Liliput\", edad=27, notas=[10,10,20,3,4])"
   ]
  },
  {
   "cell_type": "code",
   "execution_count": null,
   "id": "97b40378",
   "metadata": {},
   "outputs": [],
   "source": []
  }
 ],
 "metadata": {
  "kernelspec": {
   "display_name": "Python 3 (ipykernel)",
   "language": "python",
   "name": "python3"
  },
  "language_info": {
   "codemirror_mode": {
    "name": "ipython",
    "version": 3
   },
   "file_extension": ".py",
   "mimetype": "text/x-python",
   "name": "python",
   "nbconvert_exporter": "python",
   "pygments_lexer": "ipython3",
   "version": "3.9.12"
  }
 },
 "nbformat": 4,
 "nbformat_minor": 5
}
