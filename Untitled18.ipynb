{
 "cells": [
  {
   "cell_type": "code",
   "execution_count": 1,
   "id": "a04c1542",
   "metadata": {},
   "outputs": [],
   "source": [
    "colores = {'azul' : 'blue', \"negro\" : 'black', 'rosado' : 'pink'}\n",
    "\n",
    "propiedades = {1 : 'Nombre', 2 : 'Apellido', 3 : 'Profesion', 4 : 'Region'}"
   ]
  },
  {
   "cell_type": "code",
   "execution_count": 2,
   "id": "1e26e508",
   "metadata": {},
   "outputs": [
    {
     "data": {
      "text/plain": [
       "{'azul': 'blue', 'negro': 'black', 'rosado': 'pink'}"
      ]
     },
     "execution_count": 2,
     "metadata": {},
     "output_type": "execute_result"
    }
   ],
   "source": [
    "colores"
   ]
  },
  {
   "cell_type": "code",
   "execution_count": 3,
   "id": "1a3bf25e",
   "metadata": {},
   "outputs": [
    {
     "data": {
      "text/plain": [
       "{1: 'Nombre', 2: 'Apellido', 3: 'Profesion', 4: 'Region'}"
      ]
     },
     "execution_count": 3,
     "metadata": {},
     "output_type": "execute_result"
    }
   ],
   "source": [
    "propiedades"
   ]
  },
  {
   "cell_type": "code",
   "execution_count": 4,
   "id": "232c9136",
   "metadata": {},
   "outputs": [
    {
     "data": {
      "text/plain": [
       "'blue'"
      ]
     },
     "execution_count": 4,
     "metadata": {},
     "output_type": "execute_result"
    }
   ],
   "source": [
    "colores['azul']"
   ]
  },
  {
   "cell_type": "code",
   "execution_count": 5,
   "id": "9fbed008",
   "metadata": {},
   "outputs": [
    {
     "data": {
      "text/plain": [
       "'black'"
      ]
     },
     "execution_count": 5,
     "metadata": {},
     "output_type": "execute_result"
    }
   ],
   "source": [
    "colores['negro']"
   ]
  },
  {
   "cell_type": "code",
   "execution_count": 7,
   "id": "c2d65b65",
   "metadata": {},
   "outputs": [
    {
     "name": "stdout",
     "output_type": "stream",
     "text": [
      "{'azul': 'blue', 'negro': 'noir', 'rosado': 'pink'}\n"
     ]
    }
   ],
   "source": [
    "colores['negro']='noir'\n",
    "\n",
    "print(colores)"
   ]
  },
  {
   "cell_type": "code",
   "execution_count": 8,
   "id": "14a0abdc",
   "metadata": {},
   "outputs": [
    {
     "data": {
      "text/plain": [
       "{'azul': 'blue',\n",
       " 'negro': 'noir',\n",
       " 'rosado': 'pink',\n",
       " 'anaranjado': 'orange',\n",
       " 'blanco': 'white'}"
      ]
     },
     "execution_count": 8,
     "metadata": {},
     "output_type": "execute_result"
    }
   ],
   "source": [
    "colores['anaranjado']='orange'\n",
    "colores['blanco']='white'\n",
    "colores"
   ]
  },
  {
   "cell_type": "code",
   "execution_count": 9,
   "id": "d12b49f7",
   "metadata": {},
   "outputs": [
    {
     "data": {
      "text/plain": [
       "26"
      ]
     },
     "execution_count": 9,
     "metadata": {},
     "output_type": "execute_result"
    }
   ],
   "source": [
    "edades = {'Albert':24,\n",
    "         'Johel':24,\n",
    "         'Roque':26,\n",
    "         'Victor':27}\n",
    "edades['Roque']"
   ]
  },
  {
   "cell_type": "code",
   "execution_count": 10,
   "id": "8734ae9e",
   "metadata": {},
   "outputs": [
    {
     "data": {
      "text/plain": [
       "{'Albert': 24, 'Johel': 25, 'Roque': 26, 'Victor': 27}"
      ]
     },
     "execution_count": 10,
     "metadata": {},
     "output_type": "execute_result"
    }
   ],
   "source": [
    "edades['Johel']+=1;\n",
    "edades"
   ]
  },
  {
   "cell_type": "code",
   "execution_count": 11,
   "id": "8d86dcb2",
   "metadata": {},
   "outputs": [
    {
     "data": {
      "text/plain": [
       "51"
      ]
     },
     "execution_count": 11,
     "metadata": {},
     "output_type": "execute_result"
    }
   ],
   "source": [
    "edades['Albert']+edades['Victor']"
   ]
  },
  {
   "cell_type": "code",
   "execution_count": 12,
   "id": "7b3129b9",
   "metadata": {},
   "outputs": [
    {
     "data": {
      "text/plain": [
       "{'Albert': 24, 'Johel': 25, 'Roque': 26, 'Victor': 27, 'Giulia': 51}"
      ]
     },
     "execution_count": 12,
     "metadata": {},
     "output_type": "execute_result"
    }
   ],
   "source": [
    "edades['Giulia']=edades['Albert']+edades['Victor']\n",
    "edades"
   ]
  },
  {
   "cell_type": "code",
   "execution_count": 13,
   "id": "1c7cceba",
   "metadata": {},
   "outputs": [
    {
     "name": "stdout",
     "output_type": "stream",
     "text": [
      "Albert\n",
      "Johel\n",
      "Roque\n",
      "Victor\n",
      "Giulia\n"
     ]
    }
   ],
   "source": [
    "for c in edades:\n",
    "    print(c)"
   ]
  },
  {
   "cell_type": "code",
   "execution_count": 15,
   "id": "64b48b22",
   "metadata": {},
   "outputs": [
    {
     "name": "stdout",
     "output_type": "stream",
     "text": [
      "24\n",
      "25\n",
      "26\n",
      "27\n",
      "51\n"
     ]
    }
   ],
   "source": [
    "for c in edades:\n",
    "    print(edades[c])"
   ]
  },
  {
   "cell_type": "code",
   "execution_count": 16,
   "id": "7bcfe70e",
   "metadata": {},
   "outputs": [
    {
     "name": "stdout",
     "output_type": "stream",
     "text": [
      "Albert 24\n",
      "Johel 25\n",
      "Roque 26\n",
      "Victor 27\n",
      "Giulia 51\n"
     ]
    }
   ],
   "source": [
    "for c,v in edades.items():\n",
    "    print(c,v)"
   ]
  },
  {
   "cell_type": "code",
   "execution_count": 17,
   "id": "4d649293",
   "metadata": {},
   "outputs": [
    {
     "name": "stdout",
     "output_type": "stream",
     "text": [
      "{'negro': 'noir', 'rosado': 'pink', 'anaranjado': 'orange', 'blanco': 'white'}\n"
     ]
    }
   ],
   "source": [
    "del(colores['azul']);\n",
    "\n",
    "print(colores)"
   ]
  },
  {
   "cell_type": "code",
   "execution_count": 18,
   "id": "13cc3e2e",
   "metadata": {},
   "outputs": [],
   "source": [
    "equipo = []\n",
    "\n",
    "personajes = {'Nombre' : 'Raskolnikov',\n",
    "             'Clase' : 'Picaro',\n",
    "             'Nacion' : 'Rusia'}"
   ]
  },
  {
   "cell_type": "code",
   "execution_count": 19,
   "id": "da7faf86",
   "metadata": {},
   "outputs": [
    {
     "name": "stdout",
     "output_type": "stream",
     "text": [
      "[{'Nombre': 'Raskolnikov', 'Clase': 'Picaro', 'Nacion': 'Rusia'}]\n"
     ]
    }
   ],
   "source": [
    "equipo.append(personajes);\n",
    "print(equipo)"
   ]
  },
  {
   "cell_type": "code",
   "execution_count": 20,
   "id": "5c0f22bf",
   "metadata": {},
   "outputs": [],
   "source": [
    "personajes = {'Nombre' : 'Emma',\n",
    "             'Clase' : 'Curandera',\n",
    "             'Nacion' : 'Francia'}\n",
    "\n",
    "equipo.append(personajes);"
   ]
  },
  {
   "cell_type": "code",
   "execution_count": 21,
   "id": "fbb1f9d2",
   "metadata": {},
   "outputs": [
    {
     "data": {
      "text/plain": [
       "[{'Nombre': 'Raskolnikov', 'Clase': 'Picaro', 'Nacion': 'Rusia'},\n",
       " {'Nombre': 'Emma', 'Clase': 'Curandera', 'Nacion': 'Francia'},\n",
       " {'Nombre': 'Rebeca', 'Clase': 'Banquera', 'Nacion': 'Inglaterra'}]"
      ]
     },
     "execution_count": 21,
     "metadata": {},
     "output_type": "execute_result"
    }
   ],
   "source": [
    "personajes = {'Nombre' : 'Rebeca',\n",
    "             'Clase' : 'Banquera',\n",
    "             'Nacion' : 'Inglaterra'}\n",
    "\n",
    "equipo.append(personajes);\n",
    "equipo"
   ]
  },
  {
   "cell_type": "code",
   "execution_count": 24,
   "id": "02726f11",
   "metadata": {},
   "outputs": [
    {
     "name": "stdout",
     "output_type": "stream",
     "text": [
      "Raskolnikov , Picaro oriundo de Rusia\n",
      "Emma , Curandera oriundo de Francia\n",
      "Rebeca , Banquera oriundo de Inglaterra\n"
     ]
    }
   ],
   "source": [
    "for e in equipo:\n",
    "    print(e[\"Nombre\"],\",\", e[\"Clase\"], \"oriundo de\", e[\"Nacion\"]);"
   ]
  },
  {
   "cell_type": "code",
   "execution_count": null,
   "id": "f96fabd8",
   "metadata": {},
   "outputs": [],
   "source": []
  }
 ],
 "metadata": {
  "kernelspec": {
   "display_name": "Python 3 (ipykernel)",
   "language": "python",
   "name": "python3"
  },
  "language_info": {
   "codemirror_mode": {
    "name": "ipython",
    "version": 3
   },
   "file_extension": ".py",
   "mimetype": "text/x-python",
   "name": "python",
   "nbconvert_exporter": "python",
   "pygments_lexer": "ipython3",
   "version": "3.9.12"
  }
 },
 "nbformat": 4,
 "nbformat_minor": 5
}
