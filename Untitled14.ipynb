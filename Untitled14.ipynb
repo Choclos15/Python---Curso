{
 "cells": [
  {
   "cell_type": "code",
   "execution_count": 1,
   "id": "5638c4e9",
   "metadata": {},
   "outputs": [],
   "source": [
    "texto = 'ESTA-CADENA'"
   ]
  },
  {
   "cell_type": "code",
   "execution_count": 4,
   "id": "4b606224",
   "metadata": {},
   "outputs": [
    {
     "name": "stdout",
     "output_type": "stream",
     "text": [
      "E S T A\n"
     ]
    }
   ],
   "source": [
    "print(texto[0],texto[1], texto[2], texto[3])"
   ]
  },
  {
   "cell_type": "code",
   "execution_count": 5,
   "id": "2c0df8c0",
   "metadata": {},
   "outputs": [
    {
     "name": "stdout",
     "output_type": "stream",
     "text": [
      "C A D E N A\n"
     ]
    }
   ],
   "source": [
    "print(texto[5], texto[6], texto[7], texto[8], texto[9], texto[10])"
   ]
  },
  {
   "cell_type": "code",
   "execution_count": 6,
   "id": "8729f309",
   "metadata": {},
   "outputs": [
    {
     "name": "stdout",
     "output_type": "stream",
     "text": [
      "C A D E N A\n"
     ]
    }
   ],
   "source": [
    "print(texto[-6], texto[-5], texto[-4], texto[-3], texto[-2], texto[-1])"
   ]
  },
  {
   "cell_type": "code",
   "execution_count": 7,
   "id": "bc6c19a2",
   "metadata": {},
   "outputs": [
    {
     "data": {
      "text/plain": [
       "'EST'"
      ]
     },
     "execution_count": 7,
     "metadata": {},
     "output_type": "execute_result"
    }
   ],
   "source": [
    "texto[0:3]"
   ]
  },
  {
   "cell_type": "code",
   "execution_count": 12,
   "id": "ebf9ccdf",
   "metadata": {},
   "outputs": [
    {
     "data": {
      "text/plain": [
       "'CADEN'"
      ]
     },
     "execution_count": 12,
     "metadata": {},
     "output_type": "execute_result"
    }
   ],
   "source": [
    "texto[-6:-1]"
   ]
  },
  {
   "cell_type": "code",
   "execution_count": 10,
   "id": "3c792fb6",
   "metadata": {},
   "outputs": [
    {
     "data": {
      "text/plain": [
       "'CADENA'"
      ]
     },
     "execution_count": 10,
     "metadata": {},
     "output_type": "execute_result"
    }
   ],
   "source": [
    "texto[-6:]"
   ]
  },
  {
   "cell_type": "code",
   "execution_count": 11,
   "id": "6c1c8684",
   "metadata": {},
   "outputs": [
    {
     "data": {
      "text/plain": [
       "'ESTA'"
      ]
     },
     "execution_count": 11,
     "metadata": {},
     "output_type": "execute_result"
    }
   ],
   "source": [
    "texto[:4]"
   ]
  },
  {
   "cell_type": "code",
   "execution_count": null,
   "id": "4b6a8685",
   "metadata": {},
   "outputs": [],
   "source": []
  }
 ],
 "metadata": {
  "kernelspec": {
   "display_name": "Python 3 (ipykernel)",
   "language": "python",
   "name": "python3"
  },
  "language_info": {
   "codemirror_mode": {
    "name": "ipython",
    "version": 3
   },
   "file_extension": ".py",
   "mimetype": "text/x-python",
   "name": "python",
   "nbconvert_exporter": "python",
   "pygments_lexer": "ipython3",
   "version": "3.9.12"
  }
 },
 "nbformat": 4,
 "nbformat_minor": 5
}
