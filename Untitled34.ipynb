{
 "cells": [
  {
   "cell_type": "code",
   "execution_count": 1,
   "id": "60be2e08",
   "metadata": {},
   "outputs": [],
   "source": [
    "class Pastel:\n",
    "    pass"
   ]
  },
  {
   "cell_type": "code",
   "execution_count": 2,
   "id": "1e6af01b",
   "metadata": {},
   "outputs": [],
   "source": [
    "pastel = Pastel()\n",
    "\n",
    "pastel_3_leches = Pastel()"
   ]
  },
  {
   "cell_type": "code",
   "execution_count": 3,
   "id": "3607ebf7",
   "metadata": {},
   "outputs": [
    {
     "data": {
      "text/plain": [
       "<__main__.Pastel at 0x1c96a642640>"
      ]
     },
     "execution_count": 3,
     "metadata": {},
     "output_type": "execute_result"
    }
   ],
   "source": [
    "pastel"
   ]
  },
  {
   "cell_type": "code",
   "execution_count": 4,
   "id": "306e78aa",
   "metadata": {},
   "outputs": [
    {
     "data": {
      "text/plain": [
       "<__main__.Pastel at 0x1c96a64d670>"
      ]
     },
     "execution_count": 4,
     "metadata": {},
     "output_type": "execute_result"
    }
   ],
   "source": [
    "pastel_3_leches"
   ]
  },
  {
   "cell_type": "code",
   "execution_count": 5,
   "id": "aac16f05",
   "metadata": {},
   "outputs": [],
   "source": [
    "class Pastel:\n",
    "    pass\n",
    "\n",
    "pastel_fresa = Pastel()"
   ]
  },
  {
   "cell_type": "code",
   "execution_count": 6,
   "id": "cbc0cece",
   "metadata": {},
   "outputs": [],
   "source": [
    "pastel_fresa.sabor = \"Fresa\"\n",
    "pastel_fresa.color = \"Rosado\""
   ]
  },
  {
   "cell_type": "code",
   "execution_count": 7,
   "id": "111f14de",
   "metadata": {},
   "outputs": [
    {
     "data": {
      "text/plain": [
       "'Fresa'"
      ]
     },
     "execution_count": 7,
     "metadata": {},
     "output_type": "execute_result"
    }
   ],
   "source": [
    "pastel_fresa.sabor"
   ]
  },
  {
   "cell_type": "code",
   "execution_count": 9,
   "id": "3f780ea6",
   "metadata": {},
   "outputs": [
    {
     "data": {
      "text/plain": [
       "'El sabor de la torta es Fresa'"
      ]
     },
     "execution_count": 9,
     "metadata": {},
     "output_type": "execute_result"
    }
   ],
   "source": [
    "f'El sabor de la torta es {pastel_fresa.sabor}'"
   ]
  },
  {
   "cell_type": "code",
   "execution_count": 10,
   "id": "c5626813",
   "metadata": {},
   "outputs": [],
   "source": [
    "class Pastel:\n",
    "    chocolate=False"
   ]
  },
  {
   "cell_type": "code",
   "execution_count": 11,
   "id": "eb482a57",
   "metadata": {},
   "outputs": [
    {
     "data": {
      "text/plain": [
       "False"
      ]
     },
     "execution_count": 11,
     "metadata": {},
     "output_type": "execute_result"
    }
   ],
   "source": [
    "pastel_2 = Pastel()\n",
    "pastel_2.chocolate"
   ]
  },
  {
   "cell_type": "code",
   "execution_count": 12,
   "id": "94388283",
   "metadata": {},
   "outputs": [
    {
     "data": {
      "text/plain": [
       "True"
      ]
     },
     "execution_count": 12,
     "metadata": {},
     "output_type": "execute_result"
    }
   ],
   "source": [
    "pastel_2.chocolate = True\n",
    "pastel_2.chocolate"
   ]
  },
  {
   "cell_type": "code",
   "execution_count": 13,
   "id": "a3e4e02f",
   "metadata": {},
   "outputs": [
    {
     "name": "stdout",
     "output_type": "stream",
     "text": [
      "Se creo un pastel\n"
     ]
    }
   ],
   "source": [
    "class Pastel():\n",
    "    glaseado = False\n",
    "    \n",
    "    def __init__(self):\n",
    "        print('Se creo un pastel')\n",
    "        \n",
    "p = Pastel()"
   ]
  },
  {
   "cell_type": "code",
   "execution_count": 14,
   "id": "5e6c2f39",
   "metadata": {},
   "outputs": [
    {
     "name": "stdout",
     "output_type": "stream",
     "text": [
      "Se creo un pastel\n"
     ]
    },
    {
     "data": {
      "text/plain": [
       "False"
      ]
     },
     "execution_count": 14,
     "metadata": {},
     "output_type": "execute_result"
    }
   ],
   "source": [
    "class Pastel():\n",
    "    glaseado = False\n",
    "    \n",
    "    def __init__(self):\n",
    "        print('Se creo un pastel')\n",
    "        \n",
    "    def glasear(self):\n",
    "        self.glaseado = True\n",
    "        \n",
    "p = Pastel()\n",
    "p.glaseado"
   ]
  },
  {
   "cell_type": "code",
   "execution_count": 15,
   "id": "1281dd20",
   "metadata": {},
   "outputs": [
    {
     "data": {
      "text/plain": [
       "True"
      ]
     },
     "execution_count": 15,
     "metadata": {},
     "output_type": "execute_result"
    }
   ],
   "source": [
    "p.glasear()\n",
    "p.glaseado"
   ]
  },
  {
   "cell_type": "code",
   "execution_count": 16,
   "id": "667a6028",
   "metadata": {},
   "outputs": [],
   "source": [
    "class Pastel():\n",
    "    glaseado = False\n",
    "    \n",
    "    def __init__(self):\n",
    "        print('Se creo un pastel')\n",
    "        \n",
    "    def glasear(self):\n",
    "        self.glaseado = True\n",
    "        \n",
    "    def esta_glaseada(self):\n",
    "        if(self.glaseado):\n",
    "            print('Soy un pastel glaseado')\n",
    "        else:\n",
    "            print('Soy un pastel sin glasear')\n"
   ]
  },
  {
   "cell_type": "code",
   "execution_count": 17,
   "id": "1850473f",
   "metadata": {},
   "outputs": [
    {
     "name": "stdout",
     "output_type": "stream",
     "text": [
      "Se creo un pastel\n"
     ]
    }
   ],
   "source": [
    "p = Pastel()"
   ]
  },
  {
   "cell_type": "code",
   "execution_count": 19,
   "id": "9a656660",
   "metadata": {},
   "outputs": [
    {
     "name": "stdout",
     "output_type": "stream",
     "text": [
      "Soy un pastel sin glasear\n"
     ]
    }
   ],
   "source": [
    "p.esta_glaseada()"
   ]
  },
  {
   "cell_type": "code",
   "execution_count": 20,
   "id": "89c25cfb",
   "metadata": {},
   "outputs": [],
   "source": [
    "p.glasear()"
   ]
  },
  {
   "cell_type": "code",
   "execution_count": 21,
   "id": "1293406c",
   "metadata": {},
   "outputs": [
    {
     "name": "stdout",
     "output_type": "stream",
     "text": [
      "Soy un pastel glaseado\n"
     ]
    }
   ],
   "source": [
    "p.esta_glaseada()"
   ]
  },
  {
   "cell_type": "code",
   "execution_count": 22,
   "id": "50204c37",
   "metadata": {},
   "outputs": [],
   "source": [
    "class Pastel():\n",
    "    glaseado = False\n",
    "    \n",
    "    def __init__(self, sabor, color):\n",
    "        self.sabor=sabor\n",
    "        self.color = color\n",
    "        print(f'Se acaba de crear un pastel de {sabor} {color}')\n",
    "    \n",
    "    def glasear(self):\n",
    "        self.glaseado=True\n",
    "    \n",
    "    def esta_glaseada(self):\n",
    "        if(self.glaseado):\n",
    "            print('Soy un pastel glaseado')\n",
    "        else:\n",
    "            print('Soy un pastel sin glasear')"
   ]
  },
  {
   "cell_type": "code",
   "execution_count": 23,
   "id": "d94be98f",
   "metadata": {},
   "outputs": [
    {
     "name": "stdout",
     "output_type": "stream",
     "text": [
      "Se acaba de crear un pastel de Fresa Rosa\n"
     ]
    }
   ],
   "source": [
    "o = Pastel('Fresa', 'Rosa')"
   ]
  },
  {
   "cell_type": "code",
   "execution_count": 24,
   "id": "a3d78bb1",
   "metadata": {},
   "outputs": [
    {
     "name": "stdout",
     "output_type": "stream",
     "text": [
      "Soy un pastel sin glasear\n"
     ]
    }
   ],
   "source": [
    "o.esta_glaseada()"
   ]
  },
  {
   "cell_type": "code",
   "execution_count": 25,
   "id": "8c25f928",
   "metadata": {},
   "outputs": [
    {
     "name": "stdout",
     "output_type": "stream",
     "text": [
      "Soy un pastel glaseado\n"
     ]
    }
   ],
   "source": [
    "o.glasear()\n",
    "o.esta_glaseada()"
   ]
  },
  {
   "cell_type": "code",
   "execution_count": 26,
   "id": "ee6b4d8a",
   "metadata": {},
   "outputs": [
    {
     "ename": "TypeError",
     "evalue": "__init__() missing 2 required positional arguments: 'sabor' and 'color'",
     "output_type": "error",
     "traceback": [
      "\u001b[1;31m---------------------------------------------------------------------------\u001b[0m",
      "\u001b[1;31mTypeError\u001b[0m                                 Traceback (most recent call last)",
      "Input \u001b[1;32mIn [26]\u001b[0m, in \u001b[0;36m<cell line: 1>\u001b[1;34m()\u001b[0m\n\u001b[1;32m----> 1\u001b[0m m \u001b[38;5;241m=\u001b[39m \u001b[43mPastel\u001b[49m\u001b[43m(\u001b[49m\u001b[43m)\u001b[49m\n",
      "\u001b[1;31mTypeError\u001b[0m: __init__() missing 2 required positional arguments: 'sabor' and 'color'"
     ]
    }
   ],
   "source": [
    "m = Pastel()"
   ]
  },
  {
   "cell_type": "code",
   "execution_count": 27,
   "id": "95698f4e",
   "metadata": {},
   "outputs": [],
   "source": [
    "class Pastel():\n",
    "    glaseado = False\n",
    "    \n",
    "    def __init__(self, sabor=None, color=None):\n",
    "        self.sabor=sabor\n",
    "        self.color = color\n",
    "        print(f'Se acaba de crear un pastel de {sabor} {color}')\n",
    "    \n",
    "    def glasear(self):\n",
    "        self.glaseado=True\n",
    "    \n",
    "    def esta_glaseada(self):\n",
    "        if(self.glaseado):\n",
    "            print('Soy un pastel glaseado')\n",
    "        else:\n",
    "            print('Soy un pastel sin glasear')"
   ]
  },
  {
   "cell_type": "code",
   "execution_count": 28,
   "id": "207ae2f7",
   "metadata": {},
   "outputs": [
    {
     "name": "stdout",
     "output_type": "stream",
     "text": [
      "Se acaba de crear un pastel de None None\n"
     ]
    }
   ],
   "source": [
    "m = Pastel()"
   ]
  },
  {
   "cell_type": "code",
   "execution_count": 29,
   "id": "6dc07019",
   "metadata": {},
   "outputs": [],
   "source": [
    "class Pastel():\n",
    "    glaseado = False\n",
    "    \n",
    "    def __init__(self, sabor=None, color=None):\n",
    "        self.sabor=sabor\n",
    "        self.color = color\n",
    "        if sabor is not None and color is not None:\n",
    "            print(f'Se acaba de crear un pastel de {sabor} {color}')\n",
    "        else:\n",
    "            print(f'Se creo un pastel de vainilla')\n",
    "    \n",
    "    def glasear(self):\n",
    "        self.glaseado=True\n",
    "    \n",
    "    def esta_glaseada(self):\n",
    "        if(self.glaseado):\n",
    "            print('Soy un pastel glaseado')\n",
    "        else:\n",
    "            print('Soy un pastel sin glasear')"
   ]
  },
  {
   "cell_type": "code",
   "execution_count": 30,
   "id": "5dd42308",
   "metadata": {},
   "outputs": [
    {
     "name": "stdout",
     "output_type": "stream",
     "text": [
      "Se creo un pastel de vainilla\n"
     ]
    }
   ],
   "source": [
    "m = Pastel()"
   ]
  },
  {
   "cell_type": "code",
   "execution_count": null,
   "id": "4aa72297",
   "metadata": {},
   "outputs": [],
   "source": []
  }
 ],
 "metadata": {
  "kernelspec": {
   "display_name": "Python 3 (ipykernel)",
   "language": "python",
   "name": "python3"
  },
  "language_info": {
   "codemirror_mode": {
    "name": "ipython",
    "version": 3
   },
   "file_extension": ".py",
   "mimetype": "text/x-python",
   "name": "python",
   "nbconvert_exporter": "python",
   "pygments_lexer": "ipython3",
   "version": "3.9.12"
  }
 },
 "nbformat": 4,
 "nbformat_minor": 5
}
