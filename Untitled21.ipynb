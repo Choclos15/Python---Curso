{
 "cells": [
  {
   "cell_type": "code",
   "execution_count": 1,
   "id": "48868aeb",
   "metadata": {},
   "outputs": [
    {
     "name": "stdout",
     "output_type": "stream",
     "text": [
      "Hey\n"
     ]
    }
   ],
   "source": [
    "if(True):\n",
    "    print(\"Hey\")"
   ]
  },
  {
   "cell_type": "code",
   "execution_count": 2,
   "id": "e005a8e1",
   "metadata": {},
   "outputs": [
    {
     "name": "stdout",
     "output_type": "stream",
     "text": [
      "X vale 6\n"
     ]
    }
   ],
   "source": [
    "x = 6\n",
    "\n",
    "if x == 6:\n",
    "    print(\"X vale 6\")"
   ]
  },
  {
   "cell_type": "code",
   "execution_count": 3,
   "id": "d183d9b3",
   "metadata": {},
   "outputs": [
    {
     "name": "stdout",
     "output_type": "stream",
     "text": [
      "X vale 6\n"
     ]
    }
   ],
   "source": [
    "if x == 2:\n",
    "    print(\"X vale 2\")\n",
    "if x == 6:\n",
    "    print(\"X vale 6\")"
   ]
  },
  {
   "cell_type": "code",
   "execution_count": 4,
   "id": "b6413ec5",
   "metadata": {},
   "outputs": [
    {
     "name": "stdout",
     "output_type": "stream",
     "text": [
      "A vale 10\n",
      "B vale 5\n"
     ]
    }
   ],
   "source": [
    "a = 10\n",
    "b = 5\n",
    "if a==10:\n",
    "    print(\"A vale {}\".format(a))\n",
    "    if(b == 5):\n",
    "        print(\"B vale {}\".format(b))"
   ]
  },
  {
   "cell_type": "code",
   "execution_count": 7,
   "id": "66ba07b9",
   "metadata": {},
   "outputs": [
    {
     "name": "stdout",
     "output_type": "stream",
     "text": [
      "A vale 10, y B vale 5\n"
     ]
    }
   ],
   "source": [
    "if a == 10 and b == 5:\n",
    "    print(\"A vale {}, y B vale {}\".format(a,b))"
   ]
  },
  {
   "cell_type": "code",
   "execution_count": 8,
   "id": "a4ec7b62",
   "metadata": {},
   "outputs": [
    {
     "name": "stdout",
     "output_type": "stream",
     "text": [
      "13 es un numero impar\n"
     ]
    }
   ],
   "source": [
    "z = 13\n",
    "if z % 2 == 0:\n",
    "    print(z, \"es un numero par\")\n",
    "else:\n",
    "    print(z, \"es un numero impar\")"
   ]
  },
  {
   "cell_type": "code",
   "execution_count": 10,
   "id": "41928636",
   "metadata": {},
   "outputs": [
    {
     "name": "stdout",
     "output_type": "stream",
     "text": [
      "¿Que desea hacer?\n",
      "SALUDAR\n",
      "Hola\n"
     ]
    }
   ],
   "source": [
    "texto = input(\"¿Que desea hacer?\\n\")\n",
    "if texto == 'SALUDAR':\n",
    "    print('Hola')\n",
    "elif texto == 'RETIRARSE':\n",
    "    print('Adios')\n",
    "else:\n",
    "    print('Ingrese algo valido')"
   ]
  },
  {
   "cell_type": "code",
   "execution_count": 18,
   "id": "46482493",
   "metadata": {},
   "outputs": [
    {
     "name": "stdout",
     "output_type": "stream",
     "text": [
      "Introduce la calificacion: \n",
      "4\n",
      "Reprobado\n"
     ]
    }
   ],
   "source": [
    "puntaje = float(input(\"Introduce la calificacion: \\n\"))\n",
    "if puntaje >=9:\n",
    "    print('Excelente puntaje')\n",
    "elif puntaje >=7:\n",
    "    print('Buen desempeño')\n",
    "elif puntaje >=5:\n",
    "    print('Aprobado')\n",
    "else:\n",
    "    print('Reprobado')"
   ]
  },
  {
   "cell_type": "code",
   "execution_count": null,
   "id": "c61071e7",
   "metadata": {},
   "outputs": [],
   "source": []
  },
  {
   "cell_type": "code",
   "execution_count": null,
   "id": "0cd622d6",
   "metadata": {},
   "outputs": [],
   "source": []
  }
 ],
 "metadata": {
  "kernelspec": {
   "display_name": "Python 3 (ipykernel)",
   "language": "python",
   "name": "python3"
  },
  "language_info": {
   "codemirror_mode": {
    "name": "ipython",
    "version": 3
   },
   "file_extension": ".py",
   "mimetype": "text/x-python",
   "name": "python",
   "nbconvert_exporter": "python",
   "pygments_lexer": "ipython3",
   "version": "3.9.12"
  }
 },
 "nbformat": 4,
 "nbformat_minor": 5
}
