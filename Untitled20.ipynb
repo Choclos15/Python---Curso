{
 "cells": [
  {
   "cell_type": "code",
   "execution_count": 1,
   "id": "698ce3d8",
   "metadata": {},
   "outputs": [],
   "source": [
    "caballero = {'vida':2, 'ataque':2, 'defensa':2, 'alcance':2}\n",
    "guerrero = {'vida':2, 'ataque':2, 'defensa':2, 'alcance':2}\n",
    "arquero = {'vida':2, 'ataque':2, 'defensa':2, 'alcance':2}"
   ]
  },
  {
   "cell_type": "code",
   "execution_count": 3,
   "id": "9f515c93",
   "metadata": {},
   "outputs": [],
   "source": [
    "guerrero['ataque'] = caballero['ataque']*2\n",
    "guerrero['alcance'] = caballero ['alcance']*2"
   ]
  },
  {
   "cell_type": "code",
   "execution_count": 4,
   "id": "3b3b2d30",
   "metadata": {},
   "outputs": [
    {
     "data": {
      "text/plain": [
       "{'vida': 2, 'ataque': 4, 'defensa': 2, 'alcance': 4}"
      ]
     },
     "execution_count": 4,
     "metadata": {},
     "output_type": "execute_result"
    }
   ],
   "source": [
    "guerrero"
   ]
  },
  {
   "cell_type": "code",
   "execution_count": 5,
   "id": "3b2cc099",
   "metadata": {},
   "outputs": [],
   "source": [
    "caballero['vida'] = guerrero['vida']*2\n",
    "caballero['defensa'] = guerrero['defensa']*2"
   ]
  },
  {
   "cell_type": "code",
   "execution_count": 6,
   "id": "6aefb11c",
   "metadata": {},
   "outputs": [
    {
     "data": {
      "text/plain": [
       "{'vida': 4, 'ataque': 2, 'defensa': 4, 'alcance': 2}"
      ]
     },
     "execution_count": 6,
     "metadata": {},
     "output_type": "execute_result"
    }
   ],
   "source": [
    "caballero"
   ]
  },
  {
   "cell_type": "code",
   "execution_count": 7,
   "id": "9482383d",
   "metadata": {},
   "outputs": [],
   "source": [
    "arquero['ataque'] = guerrero['ataque']*2\n",
    "arquero['defensa'] = guerrero['defensa']/2\n",
    "arquero['alcance'] = guerrero['alcance']*2"
   ]
  },
  {
   "cell_type": "code",
   "execution_count": 8,
   "id": "355add53",
   "metadata": {},
   "outputs": [
    {
     "data": {
      "text/plain": [
       "{'vida': 2, 'ataque': 8, 'defensa': 1.0, 'alcance': 8}"
      ]
     },
     "execution_count": 8,
     "metadata": {},
     "output_type": "execute_result"
    }
   ],
   "source": [
    "arquero"
   ]
  },
  {
   "cell_type": "code",
   "execution_count": 9,
   "id": "f8d69b77",
   "metadata": {},
   "outputs": [
    {
     "data": {
      "text/plain": [
       "({'vida': 4, 'ataque': 2, 'defensa': 4, 'alcance': 2},\n",
       " {'vida': 2, 'ataque': 4, 'defensa': 2, 'alcance': 4},\n",
       " {'vida': 2, 'ataque': 8, 'defensa': 1.0, 'alcance': 8})"
      ]
     },
     "execution_count": 9,
     "metadata": {},
     "output_type": "execute_result"
    }
   ],
   "source": [
    "caballero, guerrero, arquero"
   ]
  },
  {
   "cell_type": "code",
   "execution_count": null,
   "id": "d579bd98",
   "metadata": {},
   "outputs": [],
   "source": []
  }
 ],
 "metadata": {
  "kernelspec": {
   "display_name": "Python 3 (ipykernel)",
   "language": "python",
   "name": "python3"
  },
  "language_info": {
   "codemirror_mode": {
    "name": "ipython",
    "version": 3
   },
   "file_extension": ".py",
   "mimetype": "text/x-python",
   "name": "python",
   "nbconvert_exporter": "python",
   "pygments_lexer": "ipython3",
   "version": "3.9.12"
  }
 },
 "nbformat": 4,
 "nbformat_minor": 5
}
