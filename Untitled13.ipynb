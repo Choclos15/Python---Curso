{
 "cells": [
  {
   "cell_type": "code",
   "execution_count": 1,
   "id": "57424897",
   "metadata": {},
   "outputs": [
    {
     "name": "stdout",
     "output_type": "stream",
     "text": [
      "Escribe un texto: cadena mayor a 12 caracteres\n",
      "¿La longitud de su texto es mayot igual que 3 pero menor igual que 12?\n",
      " False\n"
     ]
    }
   ],
   "source": [
    "cadena = input('Escribe un texto: ')\n",
    "print('¿La longitud de su texto es mayot igual que 3 pero menor igual que 12?\\n', len(cadena) >=3 and len(cadena) <= 12)"
   ]
  },
  {
   "cell_type": "code",
   "execution_count": 2,
   "id": "7ec2383b",
   "metadata": {},
   "outputs": [
    {
     "name": "stdout",
     "output_type": "stream",
     "text": [
      "Ingresa el primer numero: 10\n",
      "Ingresa el segundo numero: 50\n",
      "¿Los numeros son iguales? RESPUESTA:  False\n",
      "¿Los numeros son diferentes? RESPUESTA:  True\n",
      "¿El primero es mayor que el segundo? RESPUESTA:  False\n",
      "¿El segundo es mayor o igual que el primero? RESPUESTA:  True\n"
     ]
    }
   ],
   "source": [
    "n1 = float(input(\"Ingresa el primer numero: \"))\n",
    "n2 = float(input(\"Ingresa el segundo numero: \"))\n",
    "\n",
    "print(\"¿Los numeros son iguales? RESPUESTA: \", n1 == n2)\n",
    "print(\"¿Los numeros son diferentes? RESPUESTA: \", n1 != n2)\n",
    "print(\"¿El primero es mayor que el segundo? RESPUESTA: \", n1 > n2)\n",
    "print(\"¿El segundo es mayor o igual que el primero? RESPUESTA: \", n2 >= n2)"
   ]
  },
  {
   "cell_type": "code",
   "execution_count": null,
   "id": "eb96ba26",
   "metadata": {},
   "outputs": [],
   "source": []
  }
 ],
 "metadata": {
  "kernelspec": {
   "display_name": "Python 3 (ipykernel)",
   "language": "python",
   "name": "python3"
  },
  "language_info": {
   "codemirror_mode": {
    "name": "ipython",
    "version": 3
   },
   "file_extension": ".py",
   "mimetype": "text/x-python",
   "name": "python",
   "nbconvert_exporter": "python",
   "pygments_lexer": "ipython3",
   "version": "3.9.12"
  }
 },
 "nbformat": 4,
 "nbformat_minor": 5
}
