{
 "cells": [
  {
   "cell_type": "code",
   "execution_count": 1,
   "id": "298c4c34",
   "metadata": {},
   "outputs": [],
   "source": [
    "class Producto:\n",
    "    \n",
    "    def __init__ (self, ref, nombre, pvp, descripcion):\n",
    "        self.ref=ref\n",
    "        self.nombre = nombre\n",
    "        self.pvp = pvp,\n",
    "        self.descripcion=descripcion\n",
    "        \n",
    "    def __str__(self):\n",
    "        return f\"Referencia:\\t{self.ref}\\nNombre:\\t\\t{self.nombre}\\nPVP:\\t\\t{self.pvp}\\nDescripcion:\\t{self.descripcion}\\n\"\n",
    "\n",
    "class Combo(Producto):\n",
    "    pass\n",
    "\n",
    "class Alimento(Producto):\n",
    "    marca=\"\"\n",
    "    categoria=\"\"\n",
    "    \n",
    "    def __str__(self):\n",
    "        return f\"Referencia:\\t{self.ref}\\nNombre:\\t\\t{self.nombre}\\nPVP:\\t\\t{self.pvp}\\nDescripcion:\\t{self.descripcion}\\nMarca:\\t\\t{self.marca}\\nCategoria:\\t{self.categoria}\\n\"        \n",
    "\n",
    "class Ropa(Producto):\n",
    "    marca=\"\"\n",
    "    categoria=\"\"\n",
    "    talla=\"\"\n",
    "    \n",
    "    def __str__(self):\n",
    "        return f\"Referencia:\\t{self.ref}\\nNombre:\\t\\t{self.nombre}\\nPVP:\\t\\t{self.pvp}\\nDescripcion:\\t{self.descripcion}\\nMarca:\\t\\t{self.marca}\\nCategoria:\\t{self.categoria}\\nTalla:\\t\\t{self.talla}\" \n"
   ]
  },
  {
   "cell_type": "code",
   "execution_count": 19,
   "id": "be9dcff9",
   "metadata": {},
   "outputs": [],
   "source": [
    "combo_1 = Combo('70010',\"Combo 1\", 150, \"Harina de maiz 1Kg, Carne de res 2Kg, Detergente para ropa 500g\")\n",
    "\n",
    "pant_1 = Ropa(\"20001\",\"Pantalon\",200,\"Strech color rojo\")\n",
    "pant_1.marca = \"Levis\"\n",
    "pant_1.categoria=\"Dama\"\n",
    "pant_1.talla=30\n",
    "\n",
    "harina = Alimento(10001,\"Harina de maiz\",0.9,\"Harina precocida 1Kg\")\n",
    "harina.marca=\"Nestle\"\n",
    "harina.categoria=\"Cereales\""
   ]
  },
  {
   "cell_type": "code",
   "execution_count": 20,
   "id": "7413c0d1",
   "metadata": {},
   "outputs": [],
   "source": [
    "productos = [combo_1,harina]"
   ]
  },
  {
   "cell_type": "code",
   "execution_count": 21,
   "id": "ff4fad0a",
   "metadata": {},
   "outputs": [],
   "source": [
    "productos.append(pant_1)"
   ]
  },
  {
   "cell_type": "code",
   "execution_count": 22,
   "id": "0b620305",
   "metadata": {},
   "outputs": [
    {
     "data": {
      "text/plain": [
       "[<__main__.Combo at 0x24c3e5085e0>,\n",
       " <__main__.Alimento at 0x24c3e5084f0>,\n",
       " <__main__.Ropa at 0x24c3e5089d0>]"
      ]
     },
     "execution_count": 22,
     "metadata": {},
     "output_type": "execute_result"
    }
   ],
   "source": [
    "productos"
   ]
  },
  {
   "cell_type": "code",
   "execution_count": 23,
   "id": "5460a167",
   "metadata": {},
   "outputs": [
    {
     "name": "stdout",
     "output_type": "stream",
     "text": [
      "70010 Combo 1\n",
      "10001 Harina de maiz\n",
      "20001 Pantalon\n"
     ]
    }
   ],
   "source": [
    "for p in productos:\n",
    "    print(p.ref,p.nombre)"
   ]
  },
  {
   "cell_type": "code",
   "execution_count": 24,
   "id": "3eb5c8fd",
   "metadata": {},
   "outputs": [
    {
     "ename": "AttributeError",
     "evalue": "'Combo' object has no attribute 'marca'",
     "output_type": "error",
     "traceback": [
      "\u001b[1;31m---------------------------------------------------------------------------\u001b[0m",
      "\u001b[1;31mAttributeError\u001b[0m                            Traceback (most recent call last)",
      "Input \u001b[1;32mIn [24]\u001b[0m, in \u001b[0;36m<cell line: 1>\u001b[1;34m()\u001b[0m\n\u001b[0;32m      1\u001b[0m \u001b[38;5;28;01mfor\u001b[39;00m p \u001b[38;5;129;01min\u001b[39;00m productos:\n\u001b[1;32m----> 2\u001b[0m     \u001b[38;5;28mprint\u001b[39m(\u001b[43mp\u001b[49m\u001b[38;5;241;43m.\u001b[39;49m\u001b[43mmarca\u001b[49m)\n",
      "\u001b[1;31mAttributeError\u001b[0m: 'Combo' object has no attribute 'marca'"
     ]
    }
   ],
   "source": [
    "for p in productos:\n",
    "    print(p.marca)"
   ]
  },
  {
   "cell_type": "code",
   "execution_count": 25,
   "id": "0a8ff015",
   "metadata": {},
   "outputs": [
    {
     "data": {
      "text/plain": [
       "True"
      ]
     },
     "execution_count": 25,
     "metadata": {},
     "output_type": "execute_result"
    }
   ],
   "source": [
    "isinstance(combo_1,Combo)"
   ]
  },
  {
   "cell_type": "code",
   "execution_count": 26,
   "id": "1fd578da",
   "metadata": {},
   "outputs": [
    {
     "name": "stdout",
     "output_type": "stream",
     "text": [
      "70010 Combo 1\n",
      "10001 Harina de maiz Nestle\n",
      "20001 Pantalon 30\n"
     ]
    }
   ],
   "source": [
    "for p in productos:\n",
    "    if(isinstance(p,Combo)):\n",
    "        print(p.ref,p.nombre)\n",
    "    elif(isinstance(p,Ropa)):\n",
    "        print(p.ref,p.nombre,p.talla)\n",
    "    elif(isinstance(p,Alimento)):\n",
    "        print(p.ref,p.nombre,p.marca)"
   ]
  },
  {
   "cell_type": "code",
   "execution_count": 31,
   "id": "91aef53f",
   "metadata": {},
   "outputs": [
    {
     "name": "stdout",
     "output_type": "stream",
     "text": [
      "Referencia:\t20001\n",
      "Nombre:\t\tPantalon\n",
      "PVP:\t\t160.0\n",
      "Descripcion:\tStrech color rojo\n",
      "Marca:\t\tLevis\n",
      "Categoria:\tDama\n",
      "Talla:\t\t30\n"
     ]
    }
   ],
   "source": [
    "def descuento(p, rebaja):\n",
    "    p.pvp = p.pvp - (p.pvp*(rebaja/100))\n",
    "    return p\n",
    "\n",
    "pantalon_desc = descuento(pant_1, 20)\n",
    "print(pantalon_desc)"
   ]
  },
  {
   "cell_type": "code",
   "execution_count": 32,
   "id": "edb489c4",
   "metadata": {},
   "outputs": [
    {
     "name": "stdout",
     "output_type": "stream",
     "text": [
      "Referencia:\t20001\n",
      "Nombre:\t\tPantalon\n",
      "PVP:\t\t160.0\n",
      "Descripcion:\tStrech color rojo\n",
      "Marca:\t\tLevis\n",
      "Categoria:\tDama\n",
      "Talla:\t\t30\n",
      "Referencia:\t20001\n",
      "Nombre:\t\tPantalon\n",
      "PVP:\t\t160.0\n",
      "Descripcion:\tStrech color rojo\n",
      "Marca:\t\tLevis\n",
      "Categoria:\tDama\n",
      "Talla:\t\t30\n"
     ]
    }
   ],
   "source": [
    "print(pant_1)\n",
    "print(pantalon_desc)"
   ]
  },
  {
   "cell_type": "code",
   "execution_count": 33,
   "id": "43844d4b",
   "metadata": {},
   "outputs": [],
   "source": [
    "copia_pant = pant_1"
   ]
  },
  {
   "cell_type": "code",
   "execution_count": 34,
   "id": "6a3c76b5",
   "metadata": {},
   "outputs": [],
   "source": [
    "copia_pant.marca=\"Nike\""
   ]
  },
  {
   "cell_type": "code",
   "execution_count": 35,
   "id": "5475a44d",
   "metadata": {},
   "outputs": [
    {
     "name": "stdout",
     "output_type": "stream",
     "text": [
      "Referencia:\t20001\n",
      "Nombre:\t\tPantalon\n",
      "PVP:\t\t160.0\n",
      "Descripcion:\tStrech color rojo\n",
      "Marca:\t\tNike\n",
      "Categoria:\tDama\n",
      "Talla:\t\t30\n",
      "Referencia:\t20001\n",
      "Nombre:\t\tPantalon\n",
      "PVP:\t\t160.0\n",
      "Descripcion:\tStrech color rojo\n",
      "Marca:\t\tNike\n",
      "Categoria:\tDama\n",
      "Talla:\t\t30\n"
     ]
    }
   ],
   "source": [
    "print(pant_1)\n",
    "print(copia_pant)"
   ]
  },
  {
   "cell_type": "code",
   "execution_count": 36,
   "id": "dbf34a51",
   "metadata": {},
   "outputs": [
    {
     "name": "stdout",
     "output_type": "stream",
     "text": [
      "Referencia:\t20001\n",
      "Nombre:\t\tPantalon\n",
      "PVP:\t\t160.0\n",
      "Descripcion:\tStrech color rojo\n",
      "Marca:\t\tNike\n",
      "Categoria:\tDama\n",
      "Talla:\t\t30\n"
     ]
    }
   ],
   "source": [
    "import copy\n",
    "\n",
    "copia_pant = copy.copy(pant_1)\n",
    "print(copia_pant)"
   ]
  },
  {
   "cell_type": "code",
   "execution_count": 37,
   "id": "0aa796dc",
   "metadata": {},
   "outputs": [
    {
     "name": "stdout",
     "output_type": "stream",
     "text": [
      "Referencia:\t20001\n",
      "Nombre:\t\tPantalon\n",
      "PVP:\t\t500\n",
      "Descripcion:\tStrech color rojo\n",
      "Marca:\t\tNike\n",
      "Categoria:\tDama\n",
      "Talla:\t\t30 \n",
      "\n",
      "Referencia:\t20001\n",
      "Nombre:\t\tPantalon\n",
      "PVP:\t\t160.0\n",
      "Descripcion:\tStrech color rojo\n",
      "Marca:\t\tNike\n",
      "Categoria:\tDama\n",
      "Talla:\t\t30\n"
     ]
    }
   ],
   "source": [
    "copia_pant.pvp = 500\n",
    "print(copia_pant,\"\\n\")\n",
    "print(pant_1)"
   ]
  },
  {
   "cell_type": "code",
   "execution_count": null,
   "id": "5c1fc64c",
   "metadata": {},
   "outputs": [],
   "source": []
  }
 ],
 "metadata": {
  "kernelspec": {
   "display_name": "Python 3 (ipykernel)",
   "language": "python",
   "name": "python3"
  },
  "language_info": {
   "codemirror_mode": {
    "name": "ipython",
    "version": 3
   },
   "file_extension": ".py",
   "mimetype": "text/x-python",
   "name": "python",
   "nbconvert_exporter": "python",
   "pygments_lexer": "ipython3",
   "version": "3.9.12"
  }
 },
 "nbformat": 4,
 "nbformat_minor": 5
}
