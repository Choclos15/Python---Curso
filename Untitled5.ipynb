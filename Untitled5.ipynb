{
 "cells": [
  {
   "cell_type": "code",
   "execution_count": 1,
   "id": "c5505528",
   "metadata": {},
   "outputs": [
    {
     "name": "stdout",
     "output_type": "stream",
     "text": [
      "-1 <class 'int'>\n"
     ]
    }
   ],
   "source": [
    "print(-1,type(-1))"
   ]
  },
  {
   "cell_type": "code",
   "execution_count": 2,
   "id": "75c080d3",
   "metadata": {},
   "outputs": [
    {
     "name": "stdout",
     "output_type": "stream",
     "text": [
      "3.1415 <class 'float'>\n"
     ]
    }
   ],
   "source": [
    "print(3.1415,type(3.1415))"
   ]
  },
  {
   "cell_type": "code",
   "execution_count": 3,
   "id": "d85f1cd1",
   "metadata": {},
   "outputs": [
    {
     "name": "stdout",
     "output_type": "stream",
     "text": [
      "hola <class 'str'>\n"
     ]
    }
   ],
   "source": [
    "print(\"hola\",type(\"hola\"))"
   ]
  },
  {
   "cell_type": "code",
   "execution_count": 4,
   "id": "634c537a",
   "metadata": {},
   "outputs": [
    {
     "name": "stdout",
     "output_type": "stream",
     "text": [
      "True <class 'bool'>\n"
     ]
    }
   ],
   "source": [
    "print(True,type(True))"
   ]
  },
  {
   "cell_type": "code",
   "execution_count": 5,
   "id": "3bb71d0e",
   "metadata": {},
   "outputs": [
    {
     "name": "stdout",
     "output_type": "stream",
     "text": [
      "None <class 'NoneType'>\n"
     ]
    }
   ],
   "source": [
    "print(None,type(None))"
   ]
  },
  {
   "cell_type": "code",
   "execution_count": 6,
   "id": "8a2ca6d1",
   "metadata": {},
   "outputs": [
    {
     "name": "stdout",
     "output_type": "stream",
     "text": [
      "<class 'int'>\n"
     ]
    }
   ],
   "source": [
    "x=2;\n",
    "\n",
    "print(type(x));"
   ]
  },
  {
   "cell_type": "code",
   "execution_count": 7,
   "id": "ed53e2aa",
   "metadata": {},
   "outputs": [
    {
     "name": "stdout",
     "output_type": "stream",
     "text": [
      "<class 'str'>\n"
     ]
    }
   ],
   "source": [
    "nu_x = str(x);\n",
    "\n",
    "print(type(nu_x))"
   ]
  },
  {
   "cell_type": "code",
   "execution_count": 8,
   "id": "c8a29c8a",
   "metadata": {},
   "outputs": [
    {
     "name": "stdout",
     "output_type": "stream",
     "text": [
      "2\n"
     ]
    }
   ],
   "source": [
    "print(int(2.1))"
   ]
  },
  {
   "cell_type": "code",
   "execution_count": 9,
   "id": "bf084fc3",
   "metadata": {},
   "outputs": [
    {
     "name": "stdout",
     "output_type": "stream",
     "text": [
      "1 0\n"
     ]
    }
   ],
   "source": [
    "print(int(True), int(False))"
   ]
  },
  {
   "cell_type": "code",
   "execution_count": 10,
   "id": "115cbf72",
   "metadata": {},
   "outputs": [
    {
     "name": "stdout",
     "output_type": "stream",
     "text": [
      "2\n"
     ]
    }
   ],
   "source": [
    "print(int(\"2\"))"
   ]
  },
  {
   "cell_type": "code",
   "execution_count": 11,
   "id": "241d0a4a",
   "metadata": {},
   "outputs": [
    {
     "name": "stdout",
     "output_type": "stream",
     "text": [
      "2\n"
     ]
    }
   ],
   "source": [
    "print(str(2))"
   ]
  },
  {
   "cell_type": "code",
   "execution_count": 12,
   "id": "4fd450e5",
   "metadata": {},
   "outputs": [
    {
     "name": "stdout",
     "output_type": "stream",
     "text": [
      "3.1415\n"
     ]
    }
   ],
   "source": [
    "print(str(3.1415))"
   ]
  },
  {
   "cell_type": "code",
   "execution_count": 13,
   "id": "689ca2b9",
   "metadata": {},
   "outputs": [
    {
     "name": "stdout",
     "output_type": "stream",
     "text": [
      "True False\n"
     ]
    }
   ],
   "source": [
    "print(str(True), str(False))"
   ]
  },
  {
   "cell_type": "code",
   "execution_count": 14,
   "id": "59ecfcc0",
   "metadata": {},
   "outputs": [
    {
     "name": "stdout",
     "output_type": "stream",
     "text": [
      "None\n"
     ]
    }
   ],
   "source": [
    "print(str(None))"
   ]
  },
  {
   "cell_type": "code",
   "execution_count": null,
   "id": "6bdeb2ed",
   "metadata": {},
   "outputs": [],
   "source": []
  }
 ],
 "metadata": {
  "kernelspec": {
   "display_name": "Python 3 (ipykernel)",
   "language": "python",
   "name": "python3"
  },
  "language_info": {
   "codemirror_mode": {
    "name": "ipython",
    "version": 3
   },
   "file_extension": ".py",
   "mimetype": "text/x-python",
   "name": "python",
   "nbconvert_exporter": "python",
   "pygments_lexer": "ipython3",
   "version": "3.9.12"
  }
 },
 "nbformat": 4,
 "nbformat_minor": 5
}
