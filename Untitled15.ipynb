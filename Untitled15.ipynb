{
 "cells": [
  {
   "cell_type": "code",
   "execution_count": 1,
   "id": "aa3f77a1",
   "metadata": {},
   "outputs": [],
   "source": [
    "lista_de_compras = [\"Huevos\", \"Leche\", \"Queso\", \"Jabón\"]\n",
    "lista_con_precios = [\"Huevos\", 1.5, \"Leche\", 2, \"Queso\", 3.5, \"Jabón\", 5]"
   ]
  },
  {
   "cell_type": "code",
   "execution_count": 2,
   "id": "a72897ce",
   "metadata": {},
   "outputs": [
    {
     "data": {
      "text/plain": [
       "list"
      ]
     },
     "execution_count": 2,
     "metadata": {},
     "output_type": "execute_result"
    }
   ],
   "source": [
    "type(lista_de_compras)"
   ]
  },
  {
   "cell_type": "code",
   "execution_count": 3,
   "id": "b9ea80bd",
   "metadata": {},
   "outputs": [
    {
     "data": {
      "text/plain": [
       "['Huevos', 'Leche', 'Queso', 'Jabón']"
      ]
     },
     "execution_count": 3,
     "metadata": {},
     "output_type": "execute_result"
    }
   ],
   "source": [
    "lista_de_compras"
   ]
  },
  {
   "cell_type": "code",
   "execution_count": 4,
   "id": "12004bcf",
   "metadata": {},
   "outputs": [
    {
     "name": "stdout",
     "output_type": "stream",
     "text": [
      "Los Huevos cuestan 1.5\n",
      "La Leche cuesta 2\n"
     ]
    }
   ],
   "source": [
    "print(f\"\"\"Los {lista_con_precios[0]} cuestan {lista_con_precios[1]}\n",
    "La {lista_con_precios[2]} cuesta {lista_con_precios[3]}\"\"\")"
   ]
  },
  {
   "cell_type": "code",
   "execution_count": 5,
   "id": "51b77665",
   "metadata": {},
   "outputs": [
    {
     "name": "stdout",
     "output_type": "stream",
     "text": [
      "['Huevos', 0.9, 'Leche', 2, 'Queso', 3.5, 'Jabón', 5]\n",
      "Los Huevos cuestan 0.9\n"
     ]
    }
   ],
   "source": [
    "lista_con_precios[1] = 0.9\n",
    "\n",
    "print(f'''{lista_con_precios}\n",
    "Los {lista_con_precios[0]} cuestan {lista_con_precios[1]}''')"
   ]
  },
  {
   "cell_type": "code",
   "execution_count": 6,
   "id": "9b74d56f",
   "metadata": {},
   "outputs": [
    {
     "data": {
      "text/plain": [
       "range(0, 20, 2)"
      ]
     },
     "execution_count": 6,
     "metadata": {},
     "output_type": "execute_result"
    }
   ],
   "source": [
    "range(0,20,2)"
   ]
  },
  {
   "cell_type": "code",
   "execution_count": 7,
   "id": "419edf4b",
   "metadata": {},
   "outputs": [
    {
     "name": "stdout",
     "output_type": "stream",
     "text": [
      "range(0, 20, 2)\n",
      "[0, 2, 4, 6, 8, 10, 12, 14, 16, 18]\n"
     ]
    }
   ],
   "source": [
    "numeros = range(0,20,2)\n",
    "\n",
    "lista_numeros = list(numeros);\n",
    "\n",
    "print(f\"\"\"{numeros}\n",
    "{lista_numeros}\"\"\")"
   ]
  },
  {
   "cell_type": "code",
   "execution_count": 8,
   "id": "3c4b7c36",
   "metadata": {},
   "outputs": [
    {
     "name": "stdout",
     "output_type": "stream",
     "text": [
      "[0, 2, 4, 6, 8, 10, 12, 14, 16, 18, 4]\n"
     ]
    }
   ],
   "source": [
    "lista_numeros.append(4)\n",
    "print(lista_numeros)"
   ]
  },
  {
   "cell_type": "code",
   "execution_count": 9,
   "id": "796831c1",
   "metadata": {},
   "outputs": [
    {
     "data": {
      "text/plain": [
       "[0,\n",
       " 2,\n",
       " 4,\n",
       " 6,\n",
       " 8,\n",
       " 10,\n",
       " 12,\n",
       " 14,\n",
       " 16,\n",
       " 18,\n",
       " 4,\n",
       " 23,\n",
       " 66,\n",
       " 12,\n",
       " 35,\n",
       " 'hola',\n",
       " 'overtime',\n",
       " 'cygne']"
      ]
     },
     "execution_count": 9,
     "metadata": {},
     "output_type": "execute_result"
    }
   ],
   "source": [
    "lista_numeros + [23, 66, 12, 35, \"hola\", \"overtime\", \"cygne\"]"
   ]
  },
  {
   "cell_type": "code",
   "execution_count": 10,
   "id": "5ec7ea1d",
   "metadata": {},
   "outputs": [
    {
     "data": {
      "text/plain": [
       "[0, 2, 4, 6, 8, 23, 66, 12, 35, 'hola', 'overtime', 'cygne']"
      ]
     },
     "execution_count": 10,
     "metadata": {},
     "output_type": "execute_result"
    }
   ],
   "source": [
    "nu_lista = lista_numeros[:5] + [23, 66, 12, 35, \"hola\", \"overtime\", \"cygne\"]\n",
    "nu_lista"
   ]
  },
  {
   "cell_type": "code",
   "execution_count": 11,
   "id": "1c57402a",
   "metadata": {},
   "outputs": [
    {
     "data": {
      "text/plain": [
       "3"
      ]
     },
     "execution_count": 11,
     "metadata": {},
     "output_type": "execute_result"
    }
   ],
   "source": [
    "len([1,2,3])"
   ]
  },
  {
   "cell_type": "code",
   "execution_count": 12,
   "id": "d483c069",
   "metadata": {},
   "outputs": [
    {
     "data": {
      "text/plain": [
       "12"
      ]
     },
     "execution_count": 12,
     "metadata": {},
     "output_type": "execute_result"
    }
   ],
   "source": [
    "len(nu_lista)"
   ]
  },
  {
   "cell_type": "code",
   "execution_count": 15,
   "id": "f59d997d",
   "metadata": {},
   "outputs": [
    {
     "data": {
      "text/plain": [
       "True"
      ]
     },
     "execution_count": 15,
     "metadata": {},
     "output_type": "execute_result"
    }
   ],
   "source": [
    "3 in [1,2,3]"
   ]
  },
  {
   "cell_type": "code",
   "execution_count": 16,
   "id": "8d8199d7",
   "metadata": {},
   "outputs": [
    {
     "data": {
      "text/plain": [
       "True"
      ]
     },
     "execution_count": 16,
     "metadata": {},
     "output_type": "execute_result"
    }
   ],
   "source": [
    "\"hola\" in nu_lista"
   ]
  },
  {
   "cell_type": "code",
   "execution_count": 17,
   "id": "46a19eeb",
   "metadata": {},
   "outputs": [
    {
     "data": {
      "text/plain": [
       "['Platos',\n",
       " 14,\n",
       " 'Libros',\n",
       " 'Teclados',\n",
       " 8,\n",
       " 23,\n",
       " 66,\n",
       " 12,\n",
       " 35,\n",
       " 'hola',\n",
       " 'overtime',\n",
       " 'cygne']"
      ]
     },
     "execution_count": 17,
     "metadata": {},
     "output_type": "execute_result"
    }
   ],
   "source": [
    "nu_lista[:4] = [\"Platos\",14,\"Libros\",\"Teclados\"];\n",
    "nu_lista"
   ]
  },
  {
   "cell_type": "code",
   "execution_count": 18,
   "id": "99f5b63b",
   "metadata": {},
   "outputs": [
    {
     "data": {
      "text/plain": [
       "[[1, 2, 3], [4, 5, 6], [7, 8, 9]]"
      ]
     },
     "execution_count": 18,
     "metadata": {},
     "output_type": "execute_result"
    }
   ],
   "source": [
    "fila_1=[1,2,3]\n",
    "fila_2=[4,5,6]\n",
    "fila_3=[7,8,9]\n",
    "matriz=[fila_1,fila_2,fila_3]\n",
    "matriz"
   ]
  },
  {
   "cell_type": "code",
   "execution_count": 19,
   "id": "8baf3ce0",
   "metadata": {},
   "outputs": [
    {
     "data": {
      "text/plain": [
       "[1, 2, 3]"
      ]
     },
     "execution_count": 19,
     "metadata": {},
     "output_type": "execute_result"
    }
   ],
   "source": [
    "matriz[0]"
   ]
  },
  {
   "cell_type": "code",
   "execution_count": 20,
   "id": "261fc74f",
   "metadata": {},
   "outputs": [
    {
     "data": {
      "text/plain": [
       "True"
      ]
     },
     "execution_count": 20,
     "metadata": {},
     "output_type": "execute_result"
    }
   ],
   "source": [
    "matriz[0]==fila_1"
   ]
  },
  {
   "cell_type": "code",
   "execution_count": 22,
   "id": "e59b0496",
   "metadata": {},
   "outputs": [
    {
     "data": {
      "text/plain": [
       "2"
      ]
     },
     "execution_count": 22,
     "metadata": {},
     "output_type": "execute_result"
    }
   ],
   "source": [
    "matriz[0][1]"
   ]
  },
  {
   "cell_type": "code",
   "execution_count": 23,
   "id": "564f2469",
   "metadata": {},
   "outputs": [
    {
     "data": {
      "text/plain": [
       "[5, 6]"
      ]
     },
     "execution_count": 23,
     "metadata": {},
     "output_type": "execute_result"
    }
   ],
   "source": [
    "matriz[1][1:]"
   ]
  },
  {
   "cell_type": "code",
   "execution_count": null,
   "id": "e285686e",
   "metadata": {},
   "outputs": [],
   "source": []
  }
 ],
 "metadata": {
  "kernelspec": {
   "display_name": "Python 3 (ipykernel)",
   "language": "python",
   "name": "python3"
  },
  "language_info": {
   "codemirror_mode": {
    "name": "ipython",
    "version": 3
   },
   "file_extension": ".py",
   "mimetype": "text/x-python",
   "name": "python",
   "nbconvert_exporter": "python",
   "pygments_lexer": "ipython3",
   "version": "3.9.12"
  }
 },
 "nbformat": 4,
 "nbformat_minor": 5
}
