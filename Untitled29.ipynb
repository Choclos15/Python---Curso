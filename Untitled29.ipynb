{
 "cells": [
  {
   "cell_type": "code",
   "execution_count": 1,
   "id": "04acad1b",
   "metadata": {},
   "outputs": [
    {
     "data": {
      "text/plain": [
       "20"
      ]
     },
     "execution_count": 1,
     "metadata": {},
     "output_type": "execute_result"
    }
   ],
   "source": [
    "def doblar(num):\n",
    "    resultado = num * 2\n",
    "    return resultado\n",
    "\n",
    "doblar(10)"
   ]
  },
  {
   "cell_type": "code",
   "execution_count": 2,
   "id": "6ad9fbe0",
   "metadata": {},
   "outputs": [
    {
     "data": {
      "text/plain": [
       "20"
      ]
     },
     "execution_count": 2,
     "metadata": {},
     "output_type": "execute_result"
    }
   ],
   "source": [
    "def doblar(num):\n",
    "    return num * 2\n",
    "\n",
    "doblar(10)"
   ]
  },
  {
   "cell_type": "code",
   "execution_count": 3,
   "id": "ab42a0ef",
   "metadata": {},
   "outputs": [
    {
     "data": {
      "text/plain": [
       "20"
      ]
     },
     "execution_count": 3,
     "metadata": {},
     "output_type": "execute_result"
    }
   ],
   "source": [
    "def doblar(num): return num * 2\n",
    "\n",
    "doblar(10)"
   ]
  },
  {
   "cell_type": "code",
   "execution_count": 4,
   "id": "876a5fe7",
   "metadata": {},
   "outputs": [
    {
     "data": {
      "text/plain": [
       "<function __main__.<lambda>(num)>"
      ]
     },
     "execution_count": 4,
     "metadata": {},
     "output_type": "execute_result"
    }
   ],
   "source": [
    "lambda num: num * 2"
   ]
  },
  {
   "cell_type": "code",
   "execution_count": 5,
   "id": "9f40493c",
   "metadata": {},
   "outputs": [
    {
     "data": {
      "text/plain": [
       "10"
      ]
     },
     "execution_count": 5,
     "metadata": {},
     "output_type": "execute_result"
    }
   ],
   "source": [
    "doblar = lambda num: num * 2\n",
    "\n",
    "doblar(5)"
   ]
  },
  {
   "cell_type": "code",
   "execution_count": 6,
   "id": "b5b9442d",
   "metadata": {},
   "outputs": [
    {
     "data": {
      "text/plain": [
       "True"
      ]
     },
     "execution_count": 6,
     "metadata": {},
     "output_type": "execute_result"
    }
   ],
   "source": [
    "impar = lambda num: num%2 != 0\n",
    "impar(5)"
   ]
  },
  {
   "cell_type": "code",
   "execution_count": 8,
   "id": "988b771b",
   "metadata": {},
   "outputs": [
    {
     "data": {
      "text/plain": [
       "'adaramac'"
      ]
     },
     "execution_count": 8,
     "metadata": {},
     "output_type": "execute_result"
    }
   ],
   "source": [
    "revertir = lambda cadena: cadena[::-1]\n",
    "\n",
    "revertir(\"camarada\")"
   ]
  },
  {
   "cell_type": "code",
   "execution_count": 9,
   "id": "445c9484",
   "metadata": {},
   "outputs": [
    {
     "data": {
      "text/plain": [
       "3"
      ]
     },
     "execution_count": 9,
     "metadata": {},
     "output_type": "execute_result"
    }
   ],
   "source": [
    "sumar = lambda x,y: x+y\n",
    "sumar(1,2)"
   ]
  },
  {
   "cell_type": "code",
   "execution_count": null,
   "id": "5b9f8d2a",
   "metadata": {},
   "outputs": [],
   "source": []
  }
 ],
 "metadata": {
  "kernelspec": {
   "display_name": "Python 3 (ipykernel)",
   "language": "python",
   "name": "python3"
  },
  "language_info": {
   "codemirror_mode": {
    "name": "ipython",
    "version": 3
   },
   "file_extension": ".py",
   "mimetype": "text/x-python",
   "name": "python",
   "nbconvert_exporter": "python",
   "pygments_lexer": "ipython3",
   "version": "3.9.12"
  }
 },
 "nbformat": 4,
 "nbformat_minor": 5
}
