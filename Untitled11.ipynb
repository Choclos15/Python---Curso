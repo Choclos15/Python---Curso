{
 "cells": [
  {
   "cell_type": "code",
   "execution_count": 1,
   "id": "336bf2d7",
   "metadata": {},
   "outputs": [
    {
     "name": "stdout",
     "output_type": "stream",
     "text": [
      "26\n"
     ]
    }
   ],
   "source": [
    "edad = 26\n",
    "print(edad)"
   ]
  },
  {
   "cell_type": "code",
   "execution_count": 2,
   "id": "907778af",
   "metadata": {},
   "outputs": [
    {
     "data": {
      "text/plain": [
       "'26'"
      ]
     },
     "execution_count": 2,
     "metadata": {},
     "output_type": "execute_result"
    }
   ],
   "source": [
    "edad_cadena = str(edad);\n",
    "edad_cadena"
   ]
  },
  {
   "cell_type": "code",
   "execution_count": 3,
   "id": "848abcf2",
   "metadata": {},
   "outputs": [
    {
     "name": "stdout",
     "output_type": "stream",
     "text": [
      "<class 'str'>\n"
     ]
    }
   ],
   "source": [
    "print(type(edad_cadena))"
   ]
  },
  {
   "cell_type": "code",
   "execution_count": 4,
   "id": "f30a67cb",
   "metadata": {},
   "outputs": [
    {
     "name": "stdout",
     "output_type": "stream",
     "text": [
      "39\n"
     ]
    }
   ],
   "source": [
    "edad_2035 = (2035-2022) + edad\n",
    "print(edad_2035)"
   ]
  },
  {
   "cell_type": "code",
   "execution_count": 5,
   "id": "dfe1e020",
   "metadata": {},
   "outputs": [],
   "source": [
    "cadena = \"azebaC ellehciM , 01\""
   ]
  },
  {
   "cell_type": "code",
   "execution_count": 6,
   "id": "934910dd",
   "metadata": {},
   "outputs": [
    {
     "data": {
      "text/plain": [
       "'10 , Michelle Cabeza'"
      ]
     },
     "execution_count": 6,
     "metadata": {},
     "output_type": "execute_result"
    }
   ],
   "source": [
    "cadena_volteada = cadena[::-1]\n",
    "cadena_volteada"
   ]
  },
  {
   "cell_type": "code",
   "execution_count": 7,
   "id": "ef84962a",
   "metadata": {},
   "outputs": [
    {
     "name": "stdout",
     "output_type": "stream",
     "text": [
      " Michelle Cabeza  ha sacado un  10\n"
     ]
    }
   ],
   "source": [
    "print(cadena_volteada[4::], \" ha sacado un \", cadena_volteada[:2])"
   ]
  },
  {
   "cell_type": "code",
   "execution_count": null,
   "id": "8d848529",
   "metadata": {},
   "outputs": [],
   "source": []
  }
 ],
 "metadata": {
  "kernelspec": {
   "display_name": "Python 3 (ipykernel)",
   "language": "python",
   "name": "python3"
  },
  "language_info": {
   "codemirror_mode": {
    "name": "ipython",
    "version": 3
   },
   "file_extension": ".py",
   "mimetype": "text/x-python",
   "name": "python",
   "nbconvert_exporter": "python",
   "pygments_lexer": "ipython3",
   "version": "3.9.12"
  }
 },
 "nbformat": 4,
 "nbformat_minor": 5
}
