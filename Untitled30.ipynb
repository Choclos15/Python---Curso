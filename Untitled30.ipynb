{
 "cells": [
  {
   "cell_type": "code",
   "execution_count": 1,
   "id": "5a81e34b",
   "metadata": {},
   "outputs": [],
   "source": [
    "with open(r'C:\\Users\\Mario\\Desktop\\Hola.txt', 'w') as f:\n",
    "    f.write('Escritura en ficheros')\n",
    "    f.write('\\nOtra linea')\n",
    "    f.write(' Y misma linea')"
   ]
  },
  {
   "cell_type": "code",
   "execution_count": 2,
   "id": "cd9cbb1b",
   "metadata": {},
   "outputs": [
    {
     "name": "stdout",
     "output_type": "stream",
     "text": [
      "Escritura en ficheros\n",
      "Otra linea Y misma linea\n"
     ]
    }
   ],
   "source": [
    "with open(r'C:\\Users\\Mario\\Desktop\\Hola.txt', 'r') as f:\n",
    "    print(f.read())"
   ]
  },
  {
   "cell_type": "code",
   "execution_count": 3,
   "id": "7a90eb31",
   "metadata": {},
   "outputs": [
    {
     "name": "stdout",
     "output_type": "stream",
     "text": [
      "['Escritura en ficheros\\n', 'Otra linea Y misma linea']\n"
     ]
    }
   ],
   "source": [
    "with open(r'C:\\Users\\Mario\\Desktop\\Hola.txt', 'r') as f:\n",
    "    data = f.readlines()\n",
    "    print(data)"
   ]
  },
  {
   "cell_type": "code",
   "execution_count": null,
   "id": "e9d0188c",
   "metadata": {},
   "outputs": [],
   "source": [
    "with open(r'C:\\Users\\Mario\\Desktop\\Hola.txt', 'r') as f:\n",
    "    for linea in f:\n",
    "        print(linea)"
   ]
  },
  {
   "cell_type": "code",
   "execution_count": 4,
   "id": "c2493c98",
   "metadata": {},
   "outputs": [
    {
     "name": "stdout",
     "output_type": "stream",
     "text": [
      "['Escritura', 'en', 'ficheros'] <class 'list'>\n",
      "['Otra', 'linea', 'Y', 'misma', 'linea'] <class 'list'>\n"
     ]
    }
   ],
   "source": [
    "with open(r'C:\\Users\\Mario\\Desktop\\Hola.txt', 'r') as f:\n",
    "    for linea in f:\n",
    "        palabras = linea.split()\n",
    "        print(palabras, type(palabras))"
   ]
  },
  {
   "cell_type": "code",
   "execution_count": 5,
   "id": "5d65cf21",
   "metadata": {},
   "outputs": [
    {
     "name": "stdout",
     "output_type": "stream",
     "text": [
      "['Escritura', 'en', 'ficheros'] <class 'list'>\n",
      "['Escritura', 'en', 'ficheros', 'Otra', 'linea', 'Y', 'misma', 'linea'] <class 'list'>\n"
     ]
    }
   ],
   "source": [
    "palabras = list()\n",
    "with open(r'C:\\Users\\Mario\\Desktop\\Hola.txt', 'r') as f:\n",
    "    for linea in f:\n",
    "        term_1 = linea.split()\n",
    "        for t in term_1:\n",
    "            palabras.append(t)\n",
    "        print(palabras, type(palabras))"
   ]
  },
  {
   "cell_type": "code",
   "execution_count": null,
   "id": "38b3cb1c",
   "metadata": {},
   "outputs": [],
   "source": []
  }
 ],
 "metadata": {
  "kernelspec": {
   "display_name": "Python 3 (ipykernel)",
   "language": "python",
   "name": "python3"
  },
  "language_info": {
   "codemirror_mode": {
    "name": "ipython",
    "version": 3
   },
   "file_extension": ".py",
   "mimetype": "text/x-python",
   "name": "python",
   "nbconvert_exporter": "python",
   "pygments_lexer": "ipython3",
   "version": "3.9.12"
  }
 },
 "nbformat": 4,
 "nbformat_minor": 5
}
