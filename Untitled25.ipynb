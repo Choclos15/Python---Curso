{
 "cells": [
  {
   "cell_type": "code",
   "execution_count": 1,
   "id": "db6d41f3",
   "metadata": {},
   "outputs": [
    {
     "data": {
      "text/plain": [
       "-1"
      ]
     },
     "execution_count": 1,
     "metadata": {},
     "output_type": "execute_result"
    }
   ],
   "source": [
    "def resta(a,b):\n",
    "    return a - b\n",
    "\n",
    "resta(1,2)"
   ]
  },
  {
   "cell_type": "code",
   "execution_count": 2,
   "id": "3d423be5",
   "metadata": {},
   "outputs": [
    {
     "name": "stdout",
     "output_type": "stream",
     "text": [
      "Error, enviar 2 numeros a la funcion\n"
     ]
    }
   ],
   "source": [
    "def resta(a=None,b=None):\n",
    "    if a == None or b == None:\n",
    "        print(\"Error, enviar 2 numeros a la funcion\")\n",
    "        return\n",
    "    else:\n",
    "        return a - b\n",
    "\n",
    "resta(2)"
   ]
  },
  {
   "cell_type": "code",
   "execution_count": 3,
   "id": "5aa680b6",
   "metadata": {},
   "outputs": [
    {
     "name": "stdout",
     "output_type": "stream",
     "text": [
      "Error, enviar 2 numeros a la funcion\n"
     ]
    }
   ],
   "source": [
    "resta(None, 2)"
   ]
  },
  {
   "cell_type": "code",
   "execution_count": 4,
   "id": "77d9fd6a",
   "metadata": {},
   "outputs": [
    {
     "name": "stdout",
     "output_type": "stream",
     "text": [
      "Error, enviar 2 numeros a la funcion\n"
     ]
    }
   ],
   "source": [
    "resta(2, None)"
   ]
  },
  {
   "cell_type": "code",
   "execution_count": 5,
   "id": "840c9264",
   "metadata": {},
   "outputs": [
    {
     "name": "stdout",
     "output_type": "stream",
     "text": [
      "Error, enviar 2 numeros a la funcion\n"
     ]
    }
   ],
   "source": [
    "resta()"
   ]
  },
  {
   "cell_type": "code",
   "execution_count": 6,
   "id": "aa3604da",
   "metadata": {},
   "outputs": [
    {
     "data": {
      "text/plain": [
       "5"
      ]
     },
     "execution_count": 6,
     "metadata": {},
     "output_type": "execute_result"
    }
   ],
   "source": [
    "resta(10,5)"
   ]
  },
  {
   "cell_type": "code",
   "execution_count": 7,
   "id": "ed388dd1",
   "metadata": {},
   "outputs": [
    {
     "data": {
      "text/plain": [
       "(20, 10)"
      ]
     },
     "execution_count": 7,
     "metadata": {},
     "output_type": "execute_result"
    }
   ],
   "source": [
    "def duplicar(numero):\n",
    "    return numero * 2\n",
    "\n",
    "n=10\n",
    "\n",
    "duplicar(n),n"
   ]
  },
  {
   "cell_type": "code",
   "execution_count": 8,
   "id": "60c143fc",
   "metadata": {},
   "outputs": [
    {
     "data": {
      "text/plain": [
       "([0, 2, 4, 6, 8], [0, 2, 4, 6, 8])"
      ]
     },
     "execution_count": 8,
     "metadata": {},
     "output_type": "execute_result"
    }
   ],
   "source": [
    "def duplicar_seq(numeros):\n",
    "    for i,n in enumerate(numeros):\n",
    "        numeros[i] *= 2\n",
    "    return numeros\n",
    "\n",
    "notas_a = list(range(5))\n",
    "\n",
    "notas_b = duplicar_seq(notas_a)\n",
    "\n",
    "notas_a, notas_b"
   ]
  },
  {
   "cell_type": "code",
   "execution_count": 9,
   "id": "8e333401",
   "metadata": {},
   "outputs": [],
   "source": [
    "notas_c = list(range(6))"
   ]
  },
  {
   "cell_type": "code",
   "execution_count": 10,
   "id": "24805516",
   "metadata": {},
   "outputs": [],
   "source": [
    "notas_d = duplicar_seq(notas_c[:])"
   ]
  },
  {
   "cell_type": "code",
   "execution_count": 11,
   "id": "4abad05e",
   "metadata": {},
   "outputs": [
    {
     "data": {
      "text/plain": [
       "([0, 1, 2, 3, 4, 5], [0, 2, 4, 6, 8, 10])"
      ]
     },
     "execution_count": 11,
     "metadata": {},
     "output_type": "execute_result"
    }
   ],
   "source": [
    "notas_c, notas_d"
   ]
  },
  {
   "cell_type": "code",
   "execution_count": null,
   "id": "55bafe80",
   "metadata": {},
   "outputs": [],
   "source": []
  }
 ],
 "metadata": {
  "kernelspec": {
   "display_name": "Python 3 (ipykernel)",
   "language": "python",
   "name": "python3"
  },
  "language_info": {
   "codemirror_mode": {
    "name": "ipython",
    "version": 3
   },
   "file_extension": ".py",
   "mimetype": "text/x-python",
   "name": "python",
   "nbconvert_exporter": "python",
   "pygments_lexer": "ipython3",
   "version": "3.9.12"
  }
 },
 "nbformat": 4,
 "nbformat_minor": 5
}
